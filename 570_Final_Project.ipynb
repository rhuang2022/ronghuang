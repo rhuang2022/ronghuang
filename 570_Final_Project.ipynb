{
  "nbformat": 4,
  "nbformat_minor": 0,
  "metadata": {
    "colab": {
      "name": "570 Final Project.ipynb",
      "provenance": [],
      "collapsed_sections": [
        "jpL-XQUZ546e",
        "dYrTdwIzwcdx",
        "mJo31O_5X0Fr",
        "ksOClKYlF0zE",
        "-eNuP-BUymMZ",
        "Ayik05F0yiN7",
        "SVZlLL9H1SPW",
        "HiZG4czf1XuZ",
        "oe32ctYyZOrx",
        "BrT1V7-p3S5m",
        "HUcRrRBu4KTJ",
        "Qd4ULzie4Ynw",
        "JwYzyzTRZm69",
        "cIK0-gq7UcZ9"
      ]
    },
    "kernelspec": {
      "name": "python3",
      "display_name": "Python 3"
    },
    "language_info": {
      "name": "python"
    }
  },
  "cells": [
    {
      "cell_type": "markdown",
      "source": [
        "570 Final Proejct\n",
        "\n",
        "Rong Huang 6857552986\n",
        "\n",
        "Patrick Peng 9802946913\n",
        "\n",
        "Eva Tang 8441615104\n"
      ],
      "metadata": {
        "id": "na1r3IU7pkTI"
      }
    },
    {
      "cell_type": "markdown",
      "source": [
        "# **How does the Covid-19 affect the Unemployment Rate in USA?**\n",
        "\n",
        "## 1.**Introduction**\n",
        "\n",
        "In this project, we foucs on the impact of Covid-19 on the U.S. unemployment rate. \n",
        "\n",
        "According to KIMBERLY AMADEO in her \"Unemployment, Impact and Trends\", the unemployment rate in macro terms is an indicator that reflects the health of the economy; investors can also choose whether to sell stocks in their hands based on the unemployment rate of the sector. On a micro level, for individuals, the unemployment rate tells how much competition one would have if one were unemployed, or how much negotiating room one would have for a new position. So the unemployment rate is closely related to our lives.\n",
        "\n",
        "The sudden arrival of Covid-19 has affected almost all countries around the world to various degrees. Everyone's lifestyles, government regulations, and country-to-country connections have changed dramatically. Most importantly, the economy of the country was also greatly affected. In addition, people's jobs are inextricably linked to the country's economic situation. Therefore, the impact of Covid-19 on unemployment has become the subject of our attention.\n",
        "\n",
        "Anzhelika Antipova conducted a reconciliation study of the impact of Covid-19 on unemployment in \"Analysis of the COVID-19 impacts on employment and unemployment across the multi-dimensional social disadvantaged areas\". By collecting data and visualizing it, she found that covid-19 has a significant impact on unemployment, and regions that were already economically disadvantaged before the outbreak were more affected by covid-19(Antipova, 2021)。\n",
        "\n",
        "Ayşegül Şahin, Murat Tasci, and Jin Yan in the paper \"The Unemployment Cost of COVID-19: How High and How Long?\" also discussed the impact of Covid-19 on unemployment. In their projections, Covid-19 would peak at 20% or less and have a temporary impact on GDP, but if Covid-19 continues to worsen and cause business failures and market disruptions, the results will be different from their predictions. (Şahin et al., 2020)"
      ],
      "metadata": {
        "id": "e3lSwk2Pm9PT"
      }
    },
    {
      "cell_type": "code",
      "source": [
        "import numpy as np\n",
        "import pandas as pd\n",
        "import matplotlib.pyplot as plt\n",
        "# part for loading data from google drive\n",
        "from pydrive.auth import GoogleAuth\n",
        "from pydrive.drive import GoogleDrive\n",
        "from google.colab import auth\n",
        "from oauth2client.client import GoogleCredentials\n",
        "#part for adjusting data\n",
        "from pandas import DataFrame\n",
        "import datetime\n",
        "from pandas.plotting import register_matplotlib_converters\n",
        "# part for OLS model\n",
        "import statsmodels.api as sm\n",
        "from scipy import stats\n",
        "import math\n",
        "# part for normalize data\n",
        "from sklearn.preprocessing import MinMaxScaler\n",
        "import sklearn\n",
        "from sklearn import preprocessing\n",
        "from matplotlib import pyplot\n",
        "from sklearn.preprocessing import StandardScaler\n",
        "from math import sqrt"
      ],
      "metadata": {
        "id": "dWI55Ja7m4GE",
        "colab": {
          "base_uri": "https://localhost:8080/"
        },
        "outputId": "14040634-ffbb-40d1-f263-fff17c8ee2f7"
      },
      "execution_count": null,
      "outputs": [
        {
          "output_type": "stream",
          "name": "stderr",
          "text": [
            "/usr/local/lib/python3.7/dist-packages/statsmodels/tools/_testing.py:19: FutureWarning: pandas.util.testing is deprecated. Use the functions in the public API at pandas.testing instead.\n",
            "  import pandas.util.testing as tm\n"
          ]
        }
      ]
    },
    {
      "cell_type": "markdown",
      "source": [
        "## **2. Data**\n",
        "\n",
        "### **2.1 Data Source**\n",
        "We collect the covid-19 dataset from Kaggle. This dataset includes the daily covid-19 cases and death from Jan. 20, 2020 to Apr. 29, 2022. (US Counties COVID 19 Dataset, n.d.). This data set records the number of new diagnoses and deaths per day since the outbreak in the United States.\n",
        "\n",
        "Also, we have the monthly unemployment Rate, monthly Civilian Labor Force Level data, and monthly Labor Participation rate collected from FRED Economic Data ( FRED | St. Louis Fed, n.d.). All three sets of data are recorded by month starting from January 1, 1948 to March 1, 2020. \n",
        "\n",
        "According to FRED, “ The unemployment rate represents the number of unemployed as a percentage of the labor force. Labor force data are restricted to people 16 years of age and older, who currently reside in 1 of the 50 states or the District of Columbia, who do not reside in institutions” (Unemployment Rate (UNRATE) | FRED | St. Louis Fed, n.d.)  "
      ],
      "metadata": {
        "id": "r8RDqf-bnV85"
      }
    },
    {
      "cell_type": "markdown",
      "source": [
        "### **2.2 Loading Data From Google Drive**\n",
        "\n",
        "\n"
      ],
      "metadata": {
        "id": "St1jTve5oWGg"
      }
    },
    {
      "cell_type": "code",
      "source": [
        "# process to load data from google drive\n",
        "auth.authenticate_user()\n",
        "gauth = GoogleAuth()\n",
        "gauth.credentials = GoogleCredentials.get_application_default()\n",
        "drive = GoogleDrive(gauth)\n",
        "\n",
        "#Unemployment rate\n",
        "#https://drive.google.com/file/d/1WoTSX1M61rSflZk6_ivBY7ucjvG22upv/view?usp=sharing\n",
        "fileDownloaded_0 = drive.CreateFile({'id':'1WoTSX1M61rSflZk6_ivBY7ucjvG22upv'})\n",
        "\n",
        "#Labor Force Level\n",
        "#https://drive.google.com/file/d/1UHnbDfAFFkegdp-2Dcv8rGMDpoisTGTB/view?usp=sharing\n",
        "fileDownloaded_1 = drive.CreateFile({'id':'1UHnbDfAFFkegdp-2Dcv8rGMDpoisTGTB'})\n",
        "\n",
        "#Daily United States Covid Data from Jan.20,2020 to Apr.29,2022\n",
        "#https://drive.google.com/file/d/168dtGqiT1-LnN_3mMpFsEawflnSrp-ZK/view?usp=sharing\n",
        "fileDownloaded_2 = drive.CreateFile({'id':'168dtGqiT1-LnN_3mMpFsEawflnSrp-ZK'})\n",
        "\n",
        "#Labor Participate Rate\n",
        "#https://drive.google.com/file/d/1FwSEcbtU73h1jasGUxqhmeUjyq4W5MDO/view?usp=sharing\n",
        "fileDownloaded_3 = drive.CreateFile({'id':'1FwSEcbtU73h1jasGUxqhmeUjyq4W5MDO'})\n",
        "\n",
        "#Dummy Set (unemployment rate , labor level, covid(0/1))\n",
        "#https://drive.google.com/file/d/1Dt1X7Z1dVZAUuPH4okPtMTf9Yxcou15z/view?usp=sharing\n",
        "fileDownloaded_4 = drive.CreateFile({'id':'1Dt1X7Z1dVZAUuPH4okPtMTf9Yxcou15z'})\n",
        "\n",
        "#Montly United States Covid Data from Jan.20,2020 to Apr.29,2022\n",
        "#https://drive.google.com/file/d/1a6BmQiV_2Dr2QDMjwNMX5Tim2DAyQiEj/view?usp=sharing\n",
        "fileDownloaded_5 = drive.CreateFile({'id':'1a6BmQiV_2Dr2QDMjwNMX5Tim2DAyQiEj'})\n"
      ],
      "metadata": {
        "id": "FT07YCnDpCJy"
      },
      "execution_count": null,
      "outputs": []
    },
    {
      "cell_type": "code",
      "source": [
        "# to get the data\n",
        "fileDownloaded_0.GetContentFile('UnemploymentRate.csv')\n",
        "fileDownloaded_1.GetContentFile('LaborLevel.csv')\n",
        "fileDownloaded_2.GetContentFile('Covid.csv')\n",
        "fileDownloaded_3.GetContentFile('LaborParticipate.csv')\n",
        "fileDownloaded_4.GetContentFile('DummySet.csv')\n",
        "fileDownloaded_5.GetContentFile('covid_month.csv')\n"
      ],
      "metadata": {
        "id": "zjDjCZ5Iydxb"
      },
      "execution_count": null,
      "outputs": []
    },
    {
      "cell_type": "markdown",
      "source": [
        "### **2.3 Data Testing**\n",
        "\n",
        "\n"
      ],
      "metadata": {
        "id": "hpuhBeSiy9MJ"
      }
    },
    {
      "cell_type": "markdown",
      "source": [
        "In order to make the frequency of the data consistent, we converted the daily data of Covid-19 into monthly data.\n",
        "\n",
        "Also, as the U.S. Covid-19 data are only available from early 2020, we restricted the time range for all other data from February 1, 2020, to March 1, 2022 to make all of our data in model 1 and 2 have the same time range.\n",
        "\n",
        "In Model 3, since we intend to use all data from January 1948 to the present, we extend the Covid-19 data and set Covid-19 to Dummy Variable. We set the Covid data to \"0\" for all dates before February 1, 2020, and from February 1, 2020 to March 2020. We set the Covid data to '0' for all dates until February 1, 2020, and '1' for the period from February 1, 2020 to March 1, 2020.\n"
      ],
      "metadata": {
        "id": "BmcGI40JMJPe"
      }
    },
    {
      "cell_type": "markdown",
      "source": [
        "We plot the data and adjust the data to make them fit each other. \n",
        "\n",
        "To the use OLS model, for all the data we tested whether it is normally distributed or not. And we used code to make the data distribution more normal for those data that are not normally distributed."
      ],
      "metadata": {
        "id": "HA0NehAeNF4j"
      }
    },
    {
      "cell_type": "markdown",
      "source": [
        "#### Unemployment Rate Data\n",
        "\n",
        "---\n"
      ],
      "metadata": {
        "id": "5AzI3KhCzr03"
      }
    },
    {
      "cell_type": "markdown",
      "source": [
        "#####  Plot data and adjust data\n",
        "\n",
        "\n",
        "\n"
      ],
      "metadata": {
        "id": "Hh7XPHqUsU_h"
      }
    },
    {
      "cell_type": "code",
      "source": [
        "# Unemployment Rate Data (month)\n",
        "un_rate = pd.read_csv('UnemploymentRate.csv')\n",
        "plt.figure()\n",
        "un_rate.plot(0,1)\n",
        "#obtain data from 2020/02/01 to 2022/03/01\n",
        "ur_uncheck = un_rate[865:]\n",
        "ur_uncheck.plot(0,1)\n",
        "#for unemployment rate data\n",
        "ur_data = ur_uncheck['Unemployment Rate']\n",
        "plt.hist(ur_data)\n",
        "ur_uncheck"
      ],
      "metadata": {
        "colab": {
          "base_uri": "https://localhost:8080/",
          "height": 1000
        },
        "id": "DRv1Lxzr0DEs",
        "outputId": "b5973e00-84e4-4496-c852-a490ea8581f3"
      },
      "execution_count": null,
      "outputs": [
        {
          "output_type": "execute_result",
          "data": {
            "text/plain": [
              "           DATE  Unemployment Rate\n",
              "865  2020-02-01                3.5\n",
              "866  2020-03-01                4.4\n",
              "867  2020-04-01               14.7\n",
              "868  2020-05-01               13.2\n",
              "869  2020-06-01               11.0\n",
              "870  2020-07-01               10.2\n",
              "871  2020-08-01                8.4\n",
              "872  2020-09-01                7.9\n",
              "873  2020-10-01                6.9\n",
              "874  2020-11-01                6.7\n",
              "875  2020-12-01                6.7\n",
              "876  2021-01-01                6.4\n",
              "877  2021-02-01                6.2\n",
              "878  2021-03-01                6.0\n",
              "879  2021-04-01                6.0\n",
              "880  2021-05-01                5.8\n",
              "881  2021-06-01                5.9\n",
              "882  2021-07-01                5.4\n",
              "883  2021-08-01                5.2\n",
              "884  2021-09-01                4.7\n",
              "885  2021-10-01                4.6\n",
              "886  2021-11-01                4.2\n",
              "887  2021-12-01                3.9\n",
              "888  2022-01-01                4.0\n",
              "889  2022-02-01                3.8\n",
              "890  2022-03-01                3.6"
            ],
            "text/html": [
              "\n",
              "  <div id=\"df-af288e15-545a-4cee-9ba0-a886498ed085\">\n",
              "    <div class=\"colab-df-container\">\n",
              "      <div>\n",
              "<style scoped>\n",
              "    .dataframe tbody tr th:only-of-type {\n",
              "        vertical-align: middle;\n",
              "    }\n",
              "\n",
              "    .dataframe tbody tr th {\n",
              "        vertical-align: top;\n",
              "    }\n",
              "\n",
              "    .dataframe thead th {\n",
              "        text-align: right;\n",
              "    }\n",
              "</style>\n",
              "<table border=\"1\" class=\"dataframe\">\n",
              "  <thead>\n",
              "    <tr style=\"text-align: right;\">\n",
              "      <th></th>\n",
              "      <th>DATE</th>\n",
              "      <th>Unemployment Rate</th>\n",
              "    </tr>\n",
              "  </thead>\n",
              "  <tbody>\n",
              "    <tr>\n",
              "      <th>865</th>\n",
              "      <td>2020-02-01</td>\n",
              "      <td>3.5</td>\n",
              "    </tr>\n",
              "    <tr>\n",
              "      <th>866</th>\n",
              "      <td>2020-03-01</td>\n",
              "      <td>4.4</td>\n",
              "    </tr>\n",
              "    <tr>\n",
              "      <th>867</th>\n",
              "      <td>2020-04-01</td>\n",
              "      <td>14.7</td>\n",
              "    </tr>\n",
              "    <tr>\n",
              "      <th>868</th>\n",
              "      <td>2020-05-01</td>\n",
              "      <td>13.2</td>\n",
              "    </tr>\n",
              "    <tr>\n",
              "      <th>869</th>\n",
              "      <td>2020-06-01</td>\n",
              "      <td>11.0</td>\n",
              "    </tr>\n",
              "    <tr>\n",
              "      <th>870</th>\n",
              "      <td>2020-07-01</td>\n",
              "      <td>10.2</td>\n",
              "    </tr>\n",
              "    <tr>\n",
              "      <th>871</th>\n",
              "      <td>2020-08-01</td>\n",
              "      <td>8.4</td>\n",
              "    </tr>\n",
              "    <tr>\n",
              "      <th>872</th>\n",
              "      <td>2020-09-01</td>\n",
              "      <td>7.9</td>\n",
              "    </tr>\n",
              "    <tr>\n",
              "      <th>873</th>\n",
              "      <td>2020-10-01</td>\n",
              "      <td>6.9</td>\n",
              "    </tr>\n",
              "    <tr>\n",
              "      <th>874</th>\n",
              "      <td>2020-11-01</td>\n",
              "      <td>6.7</td>\n",
              "    </tr>\n",
              "    <tr>\n",
              "      <th>875</th>\n",
              "      <td>2020-12-01</td>\n",
              "      <td>6.7</td>\n",
              "    </tr>\n",
              "    <tr>\n",
              "      <th>876</th>\n",
              "      <td>2021-01-01</td>\n",
              "      <td>6.4</td>\n",
              "    </tr>\n",
              "    <tr>\n",
              "      <th>877</th>\n",
              "      <td>2021-02-01</td>\n",
              "      <td>6.2</td>\n",
              "    </tr>\n",
              "    <tr>\n",
              "      <th>878</th>\n",
              "      <td>2021-03-01</td>\n",
              "      <td>6.0</td>\n",
              "    </tr>\n",
              "    <tr>\n",
              "      <th>879</th>\n",
              "      <td>2021-04-01</td>\n",
              "      <td>6.0</td>\n",
              "    </tr>\n",
              "    <tr>\n",
              "      <th>880</th>\n",
              "      <td>2021-05-01</td>\n",
              "      <td>5.8</td>\n",
              "    </tr>\n",
              "    <tr>\n",
              "      <th>881</th>\n",
              "      <td>2021-06-01</td>\n",
              "      <td>5.9</td>\n",
              "    </tr>\n",
              "    <tr>\n",
              "      <th>882</th>\n",
              "      <td>2021-07-01</td>\n",
              "      <td>5.4</td>\n",
              "    </tr>\n",
              "    <tr>\n",
              "      <th>883</th>\n",
              "      <td>2021-08-01</td>\n",
              "      <td>5.2</td>\n",
              "    </tr>\n",
              "    <tr>\n",
              "      <th>884</th>\n",
              "      <td>2021-09-01</td>\n",
              "      <td>4.7</td>\n",
              "    </tr>\n",
              "    <tr>\n",
              "      <th>885</th>\n",
              "      <td>2021-10-01</td>\n",
              "      <td>4.6</td>\n",
              "    </tr>\n",
              "    <tr>\n",
              "      <th>886</th>\n",
              "      <td>2021-11-01</td>\n",
              "      <td>4.2</td>\n",
              "    </tr>\n",
              "    <tr>\n",
              "      <th>887</th>\n",
              "      <td>2021-12-01</td>\n",
              "      <td>3.9</td>\n",
              "    </tr>\n",
              "    <tr>\n",
              "      <th>888</th>\n",
              "      <td>2022-01-01</td>\n",
              "      <td>4.0</td>\n",
              "    </tr>\n",
              "    <tr>\n",
              "      <th>889</th>\n",
              "      <td>2022-02-01</td>\n",
              "      <td>3.8</td>\n",
              "    </tr>\n",
              "    <tr>\n",
              "      <th>890</th>\n",
              "      <td>2022-03-01</td>\n",
              "      <td>3.6</td>\n",
              "    </tr>\n",
              "  </tbody>\n",
              "</table>\n",
              "</div>\n",
              "      <button class=\"colab-df-convert\" onclick=\"convertToInteractive('df-af288e15-545a-4cee-9ba0-a886498ed085')\"\n",
              "              title=\"Convert this dataframe to an interactive table.\"\n",
              "              style=\"display:none;\">\n",
              "        \n",
              "  <svg xmlns=\"http://www.w3.org/2000/svg\" height=\"24px\"viewBox=\"0 0 24 24\"\n",
              "       width=\"24px\">\n",
              "    <path d=\"M0 0h24v24H0V0z\" fill=\"none\"/>\n",
              "    <path d=\"M18.56 5.44l.94 2.06.94-2.06 2.06-.94-2.06-.94-.94-2.06-.94 2.06-2.06.94zm-11 1L8.5 8.5l.94-2.06 2.06-.94-2.06-.94L8.5 2.5l-.94 2.06-2.06.94zm10 10l.94 2.06.94-2.06 2.06-.94-2.06-.94-.94-2.06-.94 2.06-2.06.94z\"/><path d=\"M17.41 7.96l-1.37-1.37c-.4-.4-.92-.59-1.43-.59-.52 0-1.04.2-1.43.59L10.3 9.45l-7.72 7.72c-.78.78-.78 2.05 0 2.83L4 21.41c.39.39.9.59 1.41.59.51 0 1.02-.2 1.41-.59l7.78-7.78 2.81-2.81c.8-.78.8-2.07 0-2.86zM5.41 20L4 18.59l7.72-7.72 1.47 1.35L5.41 20z\"/>\n",
              "  </svg>\n",
              "      </button>\n",
              "      \n",
              "  <style>\n",
              "    .colab-df-container {\n",
              "      display:flex;\n",
              "      flex-wrap:wrap;\n",
              "      gap: 12px;\n",
              "    }\n",
              "\n",
              "    .colab-df-convert {\n",
              "      background-color: #E8F0FE;\n",
              "      border: none;\n",
              "      border-radius: 50%;\n",
              "      cursor: pointer;\n",
              "      display: none;\n",
              "      fill: #1967D2;\n",
              "      height: 32px;\n",
              "      padding: 0 0 0 0;\n",
              "      width: 32px;\n",
              "    }\n",
              "\n",
              "    .colab-df-convert:hover {\n",
              "      background-color: #E2EBFA;\n",
              "      box-shadow: 0px 1px 2px rgba(60, 64, 67, 0.3), 0px 1px 3px 1px rgba(60, 64, 67, 0.15);\n",
              "      fill: #174EA6;\n",
              "    }\n",
              "\n",
              "    [theme=dark] .colab-df-convert {\n",
              "      background-color: #3B4455;\n",
              "      fill: #D2E3FC;\n",
              "    }\n",
              "\n",
              "    [theme=dark] .colab-df-convert:hover {\n",
              "      background-color: #434B5C;\n",
              "      box-shadow: 0px 1px 3px 1px rgba(0, 0, 0, 0.15);\n",
              "      filter: drop-shadow(0px 1px 2px rgba(0, 0, 0, 0.3));\n",
              "      fill: #FFFFFF;\n",
              "    }\n",
              "  </style>\n",
              "\n",
              "      <script>\n",
              "        const buttonEl =\n",
              "          document.querySelector('#df-af288e15-545a-4cee-9ba0-a886498ed085 button.colab-df-convert');\n",
              "        buttonEl.style.display =\n",
              "          google.colab.kernel.accessAllowed ? 'block' : 'none';\n",
              "\n",
              "        async function convertToInteractive(key) {\n",
              "          const element = document.querySelector('#df-af288e15-545a-4cee-9ba0-a886498ed085');\n",
              "          const dataTable =\n",
              "            await google.colab.kernel.invokeFunction('convertToInteractive',\n",
              "                                                     [key], {});\n",
              "          if (!dataTable) return;\n",
              "\n",
              "          const docLinkHtml = 'Like what you see? Visit the ' +\n",
              "            '<a target=\"_blank\" href=https://colab.research.google.com/notebooks/data_table.ipynb>data table notebook</a>'\n",
              "            + ' to learn more about interactive tables.';\n",
              "          element.innerHTML = '';\n",
              "          dataTable['output_type'] = 'display_data';\n",
              "          await google.colab.output.renderOutput(dataTable, element);\n",
              "          const docLink = document.createElement('div');\n",
              "          docLink.innerHTML = docLinkHtml;\n",
              "          element.appendChild(docLink);\n",
              "        }\n",
              "      </script>\n",
              "    </div>\n",
              "  </div>\n",
              "  "
            ]
          },
          "metadata": {},
          "execution_count": 4
        },
        {
          "output_type": "display_data",
          "data": {
            "text/plain": [
              "<Figure size 432x288 with 0 Axes>"
            ]
          },
          "metadata": {}
        },
        {
          "output_type": "display_data",
          "data": {
            "text/plain": [
              "<Figure size 432x288 with 1 Axes>"
            ],
            "image/png": "[encoded data removed]"
          },
          "metadata": {
            "needs_background": "light"
          }
        },
        {
          "output_type": "display_data",
          "data": {
            "text/plain": [
              "<Figure size 432x288 with 1 Axes>"
            ],
            "image/png": "[encoded data removed]"
          },
          "metadata": {
            "needs_background": "light"
          }
        }
      ]
    },
    {
      "cell_type": "markdown",
      "source": [
        "##### Summary statistics"
      ],
      "metadata": {
        "id": "2jzBP96pWlr4"
      }
    },
    {
      "cell_type": "code",
      "source": [
        "ur_uncheck.describe()"
      ],
      "metadata": {
        "colab": {
          "base_uri": "https://localhost:8080/",
          "height": 300
        },
        "id": "svfMvTrXWzS0",
        "outputId": "42def6f9-8eb8-4076-b2bf-569a1ab2fcdd"
      },
      "execution_count": null,
      "outputs": [
        {
          "output_type": "execute_result",
          "data": {
            "text/plain": [
              "       Unemployment Rate\n",
              "count          26.000000\n",
              "mean            6.511538\n",
              "std             2.901631\n",
              "min             3.500000\n",
              "25%             4.450000\n",
              "50%             5.950000\n",
              "75%             6.850000\n",
              "max            14.700000"
            ],
            "text/html": [
              "\n",
              "  <div id=\"df-f26b1287-84ae-4888-a49a-f7da5789315c\">\n",
              "    <div class=\"colab-df-container\">\n",
              "      <div>\n",
              "<style scoped>\n",
              "    .dataframe tbody tr th:only-of-type {\n",
              "        vertical-align: middle;\n",
              "    }\n",
              "\n",
              "    .dataframe tbody tr th {\n",
              "        vertical-align: top;\n",
              "    }\n",
              "\n",
              "    .dataframe thead th {\n",
              "        text-align: right;\n",
              "    }\n",
              "</style>\n",
              "<table border=\"1\" class=\"dataframe\">\n",
              "  <thead>\n",
              "    <tr style=\"text-align: right;\">\n",
              "      <th></th>\n",
              "      <th>Unemployment Rate</th>\n",
              "    </tr>\n",
              "  </thead>\n",
              "  <tbody>\n",
              "    <tr>\n",
              "      <th>count</th>\n",
              "      <td>26.000000</td>\n",
              "    </tr>\n",
              "    <tr>\n",
              "      <th>mean</th>\n",
              "      <td>6.511538</td>\n",
              "    </tr>\n",
              "    <tr>\n",
              "      <th>std</th>\n",
              "      <td>2.901631</td>\n",
              "    </tr>\n",
              "    <tr>\n",
              "      <th>min</th>\n",
              "      <td>3.500000</td>\n",
              "    </tr>\n",
              "    <tr>\n",
              "      <th>25%</th>\n",
              "      <td>4.450000</td>\n",
              "    </tr>\n",
              "    <tr>\n",
              "      <th>50%</th>\n",
              "      <td>5.950000</td>\n",
              "    </tr>\n",
              "    <tr>\n",
              "      <th>75%</th>\n",
              "      <td>6.850000</td>\n",
              "    </tr>\n",
              "    <tr>\n",
              "      <th>max</th>\n",
              "      <td>14.700000</td>\n",
              "    </tr>\n",
              "  </tbody>\n",
              "</table>\n",
              "</div>\n",
              "      <button class=\"colab-df-convert\" onclick=\"convertToInteractive('df-f26b1287-84ae-4888-a49a-f7da5789315c')\"\n",
              "              title=\"Convert this dataframe to an interactive table.\"\n",
              "              style=\"display:none;\">\n",
              "        \n",
              "  <svg xmlns=\"http://www.w3.org/2000/svg\" height=\"24px\"viewBox=\"0 0 24 24\"\n",
              "       width=\"24px\">\n",
              "    <path d=\"M0 0h24v24H0V0z\" fill=\"none\"/>\n",
              "    <path d=\"M18.56 5.44l.94 2.06.94-2.06 2.06-.94-2.06-.94-.94-2.06-.94 2.06-2.06.94zm-11 1L8.5 8.5l.94-2.06 2.06-.94-2.06-.94L8.5 2.5l-.94 2.06-2.06.94zm10 10l.94 2.06.94-2.06 2.06-.94-2.06-.94-.94-2.06-.94 2.06-2.06.94z\"/><path d=\"M17.41 7.96l-1.37-1.37c-.4-.4-.92-.59-1.43-.59-.52 0-1.04.2-1.43.59L10.3 9.45l-7.72 7.72c-.78.78-.78 2.05 0 2.83L4 21.41c.39.39.9.59 1.41.59.51 0 1.02-.2 1.41-.59l7.78-7.78 2.81-2.81c.8-.78.8-2.07 0-2.86zM5.41 20L4 18.59l7.72-7.72 1.47 1.35L5.41 20z\"/>\n",
              "  </svg>\n",
              "      </button>\n",
              "      \n",
              "  <style>\n",
              "    .colab-df-container {\n",
              "      display:flex;\n",
              "      flex-wrap:wrap;\n",
              "      gap: 12px;\n",
              "    }\n",
              "\n",
              "    .colab-df-convert {\n",
              "      background-color: #E8F0FE;\n",
              "      border: none;\n",
              "      border-radius: 50%;\n",
              "      cursor: pointer;\n",
              "      display: none;\n",
              "      fill: #1967D2;\n",
              "      height: 32px;\n",
              "      padding: 0 0 0 0;\n",
              "      width: 32px;\n",
              "    }\n",
              "\n",
              "    .colab-df-convert:hover {\n",
              "      background-color: #E2EBFA;\n",
              "      box-shadow: 0px 1px 2px rgba(60, 64, 67, 0.3), 0px 1px 3px 1px rgba(60, 64, 67, 0.15);\n",
              "      fill: #174EA6;\n",
              "    }\n",
              "\n",
              "    [theme=dark] .colab-df-convert {\n",
              "      background-color: #3B4455;\n",
              "      fill: #D2E3FC;\n",
              "    }\n",
              "\n",
              "    [theme=dark] .colab-df-convert:hover {\n",
              "      background-color: #434B5C;\n",
              "      box-shadow: 0px 1px 3px 1px rgba(0, 0, 0, 0.15);\n",
              "      filter: drop-shadow(0px 1px 2px rgba(0, 0, 0, 0.3));\n",
              "      fill: #FFFFFF;\n",
              "    }\n",
              "  </style>\n",
              "\n",
              "      <script>\n",
              "        const buttonEl =\n",
              "          document.querySelector('#df-f26b1287-84ae-4888-a49a-f7da5789315c button.colab-df-convert');\n",
              "        buttonEl.style.display =\n",
              "          google.colab.kernel.accessAllowed ? 'block' : 'none';\n",
              "\n",
              "        async function convertToInteractive(key) {\n",
              "          const element = document.querySelector('#df-f26b1287-84ae-4888-a49a-f7da5789315c');\n",
              "          const dataTable =\n",
              "            await google.colab.kernel.invokeFunction('convertToInteractive',\n",
              "                                                     [key], {});\n",
              "          if (!dataTable) return;\n",
              "\n",
              "          const docLinkHtml = 'Like what you see? Visit the ' +\n",
              "            '<a target=\"_blank\" href=https://colab.research.google.com/notebooks/data_table.ipynb>data table notebook</a>'\n",
              "            + ' to learn more about interactive tables.';\n",
              "          element.innerHTML = '';\n",
              "          dataTable['output_type'] = 'display_data';\n",
              "          await google.colab.output.renderOutput(dataTable, element);\n",
              "          const docLink = document.createElement('div');\n",
              "          docLink.innerHTML = docLinkHtml;\n",
              "          element.appendChild(docLink);\n",
              "        }\n",
              "      </script>\n",
              "    </div>\n",
              "  </div>\n",
              "  "
            ]
          },
          "metadata": {},
          "execution_count": 5
        }
      ]
    },
    {
      "cell_type": "markdown",
      "source": [
        "##### Normalizing data"
      ],
      "metadata": {
        "id": "kTm-YVAgsQii"
      }
    },
    {
      "cell_type": "code",
      "source": [
        "# Check normal distribution of orginal data\n",
        "shapiro_test = stats.shapiro(ur_data)\n",
        "print('original:')\n",
        "print(shapiro_test)\n",
        "# logging the data \n",
        "logur = np.log(ur_data)\n",
        "log_shapiro_test = stats.shapiro(logur)\n",
        "print('log:')\n",
        "print(log_shapiro_test)\n",
        "#differencing the data \n",
        "diffur = np.diff(ur_data)\n",
        "diff_shapiro_test = stats.shapiro(diffur)\n",
        "print('diff:')\n",
        "print(diff_shapiro_test)\n",
        "# normalizing by code\n",
        "group_ur = ur_uncheck.groupby('DATE').sum()\n",
        "group_ur.index = pd.to_datetime(group_ur.index)\n",
        "nur = preprocessing.normalize(group_ur, axis=0)\n",
        "scaled = pd.DataFrame(nur)\n",
        "n_shapiro_test = stats.shapiro(scaled)\n",
        "print(\"normalize code:\")\n",
        "print(n_shapiro_test)"
      ],
      "metadata": {
        "colab": {
          "base_uri": "https://localhost:8080/"
        },
        "id": "e0YtIqzD0Vmt",
        "outputId": "88d79fc2-f901-4a0d-ba59-168f8aeb317c"
      },
      "execution_count": null,
      "outputs": [
        {
          "output_type": "stream",
          "name": "stdout",
          "text": [
            "original:\n",
            "(0.8389639854431152, 0.0008755525923334062)\n",
            "log:\n",
            "(0.941556990146637, 0.1463162899017334)\n",
            "diff:\n",
            "(0.4477319121360779, 1.1854249137854822e-08)\n",
            "normalize code:\n",
            "(0.8389638066291809, 0.0008755461894907057)\n"
          ]
        }
      ]
    },
    {
      "cell_type": "code",
      "source": [
        "ur_loglist = list(logur)\n",
        "ur_uncheck['logur'] = list(logur)\n",
        "ur = ur_uncheck"
      ],
      "metadata": {
        "id": "nkcSTR6yWc-_",
        "colab": {
          "base_uri": "https://localhost:8080/"
        },
        "outputId": "5a33e570-82f4-43bc-f558-7889cb49c294"
      },
      "execution_count": null,
      "outputs": [
        {
          "output_type": "stream",
          "name": "stderr",
          "text": [
            "/usr/local/lib/python3.7/dist-packages/ipykernel_launcher.py:2: SettingWithCopyWarning: \n",
            "A value is trying to be set on a copy of a slice from a DataFrame.\n",
            "Try using .loc[row_indexer,col_indexer] = value instead\n",
            "\n",
            "See the caveats in the documentation: https://pandas.pydata.org/pandas-docs/stable/user_guide/indexing.html#returning-a-view-versus-a-copy\n",
            "  \n"
          ]
        }
      ]
    },
    {
      "cell_type": "markdown",
      "source": [
        "We use logged unemployment data. The logged unemployment data is normal distribution.\n",
        "\n",
        "Highest w value: 0.94156\n",
        "\n",
        "p value: 0.1463>0.05\n"
      ],
      "metadata": {
        "id": "SnP72csQ5uLv"
      }
    },
    {
      "cell_type": "markdown",
      "source": [
        "#### Labor Force Level Data\n",
        "\n",
        "---\n",
        "\n"
      ],
      "metadata": {
        "id": "jpL-XQUZ546e"
      }
    },
    {
      "cell_type": "markdown",
      "source": [
        "##### Plot data and adjust data\n"
      ],
      "metadata": {
        "id": "dYrTdwIzwcdx"
      }
    },
    {
      "cell_type": "code",
      "source": [
        "#Labor Force Level\n",
        "labor_force_level= pd.read_csv('LaborLevel.csv')\n",
        "plt.figure()\n",
        "labor_force_level.plot(0,1)\n",
        "#obtain data from 2020/02/01 to 2022/03/01\n",
        "lfl_uncheck = labor_force_level[865:]\n",
        "lfl_uncheck.plot(0,1)\n",
        "#for labor force level data\n",
        "lfl_data = lfl_uncheck['Labor Level']\n",
        "lfl_uncheck"
      ],
      "metadata": {
        "colab": {
          "base_uri": "https://localhost:8080/"
        },
        "id": "A78ewUeM6h3S",
        "outputId": "6fc35729-3d38-4f35-9772-00024175044e"
      },
      "execution_count": null,
      "outputs": [
        {
          "output_type": "execute_result",
          "data": {
            "text/plain": [
              "           DATE  Labor Level\n",
              "865  2020-02-01       164583\n",
              "866  2020-03-01       162764\n",
              "867  2020-04-01       156358\n",
              "868  2020-05-01       158122\n",
              "869  2020-06-01       159834\n",
              "870  2020-07-01       160015\n",
              "871  2020-08-01       160707\n",
              "872  2020-09-01       160153\n",
              "873  2020-10-01       160834\n",
              "874  2020-11-01       160539\n",
              "875  2020-12-01       160671\n",
              "876  2021-01-01       160184\n",
              "877  2021-02-01       160359\n",
              "878  2021-03-01       160631\n",
              "879  2021-04-01       160978\n",
              "880  2021-05-01       160801\n",
              "881  2021-06-01       161114\n",
              "882  2021-07-01       161375\n",
              "883  2021-08-01       161505\n",
              "884  2021-09-01       161471\n",
              "885  2021-10-01       161610\n",
              "886  2021-11-01       162126\n",
              "887  2021-12-01       162294\n",
              "888  2022-01-01       163687\n",
              "889  2022-02-01       163991\n",
              "890  2022-03-01       164409"
            ],
            "text/html": [
              "\n",
              "  <div id=\"df-cfc466da-03ce-4b60-b703-78a9fcd73fb9\">\n",
              "    <div class=\"colab-df-container\">\n",
              "      <div>\n",
              "<style scoped>\n",
              "    .dataframe tbody tr th:only-of-type {\n",
              "        vertical-align: middle;\n",
              "    }\n",
              "\n",
              "    .dataframe tbody tr th {\n",
              "        vertical-align: top;\n",
              "    }\n",
              "\n",
              "    .dataframe thead th {\n",
              "        text-align: right;\n",
              "    }\n",
              "</style>\n",
              "<table border=\"1\" class=\"dataframe\">\n",
              "  <thead>\n",
              "    <tr style=\"text-align: right;\">\n",
              "      <th></th>\n",
              "      <th>DATE</th>\n",
              "      <th>Labor Level</th>\n",
              "    </tr>\n",
              "  </thead>\n",
              "  <tbody>\n",
              "    <tr>\n",
              "      <th>865</th>\n",
              "      <td>2020-02-01</td>\n",
              "      <td>164583</td>\n",
              "    </tr>\n",
              "    <tr>\n",
              "      <th>866</th>\n",
              "      <td>2020-03-01</td>\n",
              "      <td>162764</td>\n",
              "    </tr>\n",
              "    <tr>\n",
              "      <th>867</th>\n",
              "      <td>2020-04-01</td>\n",
              "      <td>156358</td>\n",
              "    </tr>\n",
              "    <tr>\n",
              "      <th>868</th>\n",
              "      <td>2020-05-01</td>\n",
              "      <td>158122</td>\n",
              "    </tr>\n",
              "    <tr>\n",
              "      <th>869</th>\n",
              "      <td>2020-06-01</td>\n",
              "      <td>159834</td>\n",
              "    </tr>\n",
              "    <tr>\n",
              "      <th>870</th>\n",
              "      <td>2020-07-01</td>\n",
              "      <td>160015</td>\n",
              "    </tr>\n",
              "    <tr>\n",
              "      <th>871</th>\n",
              "      <td>2020-08-01</td>\n",
              "      <td>160707</td>\n",
              "    </tr>\n",
              "    <tr>\n",
              "      <th>872</th>\n",
              "      <td>2020-09-01</td>\n",
              "      <td>160153</td>\n",
              "    </tr>\n",
              "    <tr>\n",
              "      <th>873</th>\n",
              "      <td>2020-10-01</td>\n",
              "      <td>160834</td>\n",
              "    </tr>\n",
              "    <tr>\n",
              "      <th>874</th>\n",
              "      <td>2020-11-01</td>\n",
              "      <td>160539</td>\n",
              "    </tr>\n",
              "    <tr>\n",
              "      <th>875</th>\n",
              "      <td>2020-12-01</td>\n",
              "      <td>160671</td>\n",
              "    </tr>\n",
              "    <tr>\n",
              "      <th>876</th>\n",
              "      <td>2021-01-01</td>\n",
              "      <td>160184</td>\n",
              "    </tr>\n",
              "    <tr>\n",
              "      <th>877</th>\n",
              "      <td>2021-02-01</td>\n",
              "      <td>160359</td>\n",
              "    </tr>\n",
              "    <tr>\n",
              "      <th>878</th>\n",
              "      <td>2021-03-01</td>\n",
              "      <td>160631</td>\n",
              "    </tr>\n",
              "    <tr>\n",
              "      <th>879</th>\n",
              "      <td>2021-04-01</td>\n",
              "      <td>160978</td>\n",
              "    </tr>\n",
              "    <tr>\n",
              "      <th>880</th>\n",
              "      <td>2021-05-01</td>\n",
              "      <td>160801</td>\n",
              "    </tr>\n",
              "    <tr>\n",
              "      <th>881</th>\n",
              "      <td>2021-06-01</td>\n",
              "      <td>161114</td>\n",
              "    </tr>\n",
              "    <tr>\n",
              "      <th>882</th>\n",
              "      <td>2021-07-01</td>\n",
              "      <td>161375</td>\n",
              "    </tr>\n",
              "    <tr>\n",
              "      <th>883</th>\n",
              "      <td>2021-08-01</td>\n",
              "      <td>161505</td>\n",
              "    </tr>\n",
              "    <tr>\n",
              "      <th>884</th>\n",
              "      <td>2021-09-01</td>\n",
              "      <td>161471</td>\n",
              "    </tr>\n",
              "    <tr>\n",
              "      <th>885</th>\n",
              "      <td>2021-10-01</td>\n",
              "      <td>161610</td>\n",
              "    </tr>\n",
              "    <tr>\n",
              "      <th>886</th>\n",
              "      <td>2021-11-01</td>\n",
              "      <td>162126</td>\n",
              "    </tr>\n",
              "    <tr>\n",
              "      <th>887</th>\n",
              "      <td>2021-12-01</td>\n",
              "      <td>162294</td>\n",
              "    </tr>\n",
              "    <tr>\n",
              "      <th>888</th>\n",
              "      <td>2022-01-01</td>\n",
              "      <td>163687</td>\n",
              "    </tr>\n",
              "    <tr>\n",
              "      <th>889</th>\n",
              "      <td>2022-02-01</td>\n",
              "      <td>163991</td>\n",
              "    </tr>\n",
              "    <tr>\n",
              "      <th>890</th>\n",
              "      <td>2022-03-01</td>\n",
              "      <td>164409</td>\n",
              "    </tr>\n",
              "  </tbody>\n",
              "</table>\n",
              "</div>\n",
              "      <button class=\"colab-df-convert\" onclick=\"convertToInteractive('df-cfc466da-03ce-4b60-b703-78a9fcd73fb9')\"\n",
              "              title=\"Convert this dataframe to an interactive table.\"\n",
              "              style=\"display:none;\">\n",
              "        \n",
              "  <svg xmlns=\"http://www.w3.org/2000/svg\" height=\"24px\"viewBox=\"0 0 24 24\"\n",
              "       width=\"24px\">\n",
              "    <path d=\"M0 0h24v24H0V0z\" fill=\"none\"/>\n",
              "    <path d=\"M18.56 5.44l.94 2.06.94-2.06 2.06-.94-2.06-.94-.94-2.06-.94 2.06-2.06.94zm-11 1L8.5 8.5l.94-2.06 2.06-.94-2.06-.94L8.5 2.5l-.94 2.06-2.06.94zm10 10l.94 2.06.94-2.06 2.06-.94-2.06-.94-.94-2.06-.94 2.06-2.06.94z\"/><path d=\"M17.41 7.96l-1.37-1.37c-.4-.4-.92-.59-1.43-.59-.52 0-1.04.2-1.43.59L10.3 9.45l-7.72 7.72c-.78.78-.78 2.05 0 2.83L4 21.41c.39.39.9.59 1.41.59.51 0 1.02-.2 1.41-.59l7.78-7.78 2.81-2.81c.8-.78.8-2.07 0-2.86zM5.41 20L4 18.59l7.72-7.72 1.47 1.35L5.41 20z\"/>\n",
              "  </svg>\n",
              "      </button>\n",
              "      \n",
              "  <style>\n",
              "    .colab-df-container {\n",
              "      display:flex;\n",
              "      flex-wrap:wrap;\n",
              "      gap: 12px;\n",
              "    }\n",
              "\n",
              "    .colab-df-convert {\n",
              "      background-color: #E8F0FE;\n",
              "      border: none;\n",
              "      border-radius: 50%;\n",
              "      cursor: pointer;\n",
              "      display: none;\n",
              "      fill: #1967D2;\n",
              "      height: 32px;\n",
              "      padding: 0 0 0 0;\n",
              "      width: 32px;\n",
              "    }\n",
              "\n",
              "    .colab-df-convert:hover {\n",
              "      background-color: #E2EBFA;\n",
              "      box-shadow: 0px 1px 2px rgba(60, 64, 67, 0.3), 0px 1px 3px 1px rgba(60, 64, 67, 0.15);\n",
              "      fill: #174EA6;\n",
              "    }\n",
              "\n",
              "    [theme=dark] .colab-df-convert {\n",
              "      background-color: #3B4455;\n",
              "      fill: #D2E3FC;\n",
              "    }\n",
              "\n",
              "    [theme=dark] .colab-df-convert:hover {\n",
              "      background-color: #434B5C;\n",
              "      box-shadow: 0px 1px 3px 1px rgba(0, 0, 0, 0.15);\n",
              "      filter: drop-shadow(0px 1px 2px rgba(0, 0, 0, 0.3));\n",
              "      fill: #FFFFFF;\n",
              "    }\n",
              "  </style>\n",
              "\n",
              "      <script>\n",
              "        const buttonEl =\n",
              "          document.querySelector('#df-cfc466da-03ce-4b60-b703-78a9fcd73fb9 button.colab-df-convert');\n",
              "        buttonEl.style.display =\n",
              "          google.colab.kernel.accessAllowed ? 'block' : 'none';\n",
              "\n",
              "        async function convertToInteractive(key) {\n",
              "          const element = document.querySelector('#df-cfc466da-03ce-4b60-b703-78a9fcd73fb9');\n",
              "          const dataTable =\n",
              "            await google.colab.kernel.invokeFunction('convertToInteractive',\n",
              "                                                     [key], {});\n",
              "          if (!dataTable) return;\n",
              "\n",
              "          const docLinkHtml = 'Like what you see? Visit the ' +\n",
              "            '<a target=\"_blank\" href=https://colab.research.google.com/notebooks/data_table.ipynb>data table notebook</a>'\n",
              "            + ' to learn more about interactive tables.';\n",
              "          element.innerHTML = '';\n",
              "          dataTable['output_type'] = 'display_data';\n",
              "          await google.colab.output.renderOutput(dataTable, element);\n",
              "          const docLink = document.createElement('div');\n",
              "          docLink.innerHTML = docLinkHtml;\n",
              "          element.appendChild(docLink);\n",
              "        }\n",
              "      </script>\n",
              "    </div>\n",
              "  </div>\n",
              "  "
            ]
          },
          "metadata": {},
          "execution_count": 118
        },
        {
          "output_type": "display_data",
          "data": {
            "text/plain": [
              "<Figure size 432x288 with 0 Axes>"
            ]
          },
          "metadata": {}
        },
        {
          "output_type": "display_data",
          "data": {
            "text/plain": [
              "<Figure size 432x288 with 1 Axes>"
            ],
            "image/png": "[encoded data removed]"
          },
          "metadata": {
            "needs_background": "light"
          }
        },
        {
          "output_type": "display_data",
          "data": {
            "text/plain": [
              "<Figure size 432x288 with 1 Axes>"
            ],
            "image/png": "[encoded data removed]"
          },
          "metadata": {
            "needs_background": "light"
          }
        }
      ]
    },
    {
      "cell_type": "code",
      "source": [
        "plt.hist(lfl_data)"
      ],
      "metadata": {
        "colab": {
          "base_uri": "https://localhost:8080/"
        },
        "id": "_cAH45ofw6gM",
        "outputId": "3abd8fa8-5e5d-402c-c2c5-ac5eb3a405f3"
      },
      "execution_count": null,
      "outputs": [
        {
          "output_type": "execute_result",
          "data": {
            "text/plain": [
              "(array([1., 0., 1., 0., 5., 8., 4., 3., 1., 3.]),\n",
              " array([156358. , 157180.5, 158003. , 158825.5, 159648. , 160470.5,\n",
              "        161293. , 162115.5, 162938. , 163760.5, 164583. ]),\n",
              " <a list of 10 Patch objects>)"
            ]
          },
          "metadata": {},
          "execution_count": 119
        },
        {
          "output_type": "display_data",
          "data": {
            "text/plain": [
              "<Figure size 432x288 with 1 Axes>"
            ],
            "image/png": "[encoded data removed]"
          },
          "metadata": {
            "needs_background": "light"
          }
        }
      ]
    },
    {
      "cell_type": "markdown",
      "source": [
        "##### Summary statistics"
      ],
      "metadata": {
        "id": "mJo31O_5X0Fr"
      }
    },
    {
      "cell_type": "code",
      "source": [
        "lfl_uncheck.describe()"
      ],
      "metadata": {
        "colab": {
          "base_uri": "https://localhost:8080/"
        },
        "id": "UztU2pLXYJ9W",
        "outputId": "10465404-824a-4d01-ba80-bd2d7f6b69fd"
      },
      "execution_count": null,
      "outputs": [
        {
          "output_type": "execute_result",
          "data": {
            "text/plain": [
              "         Labor Level\n",
              "count      26.000000\n",
              "mean   161196.730769\n",
              "std      1802.674958\n",
              "min    156358.000000\n",
              "25%    160404.000000\n",
              "50%    160906.000000\n",
              "75%    161997.000000\n",
              "max    164583.000000"
            ],
            "text/html": [
              "\n",
              "  <div id=\"df-8e929257-5229-46fc-9eb2-f0ffc4084d97\">\n",
              "    <div class=\"colab-df-container\">\n",
              "      <div>\n",
              "<style scoped>\n",
              "    .dataframe tbody tr th:only-of-type {\n",
              "        vertical-align: middle;\n",
              "    }\n",
              "\n",
              "    .dataframe tbody tr th {\n",
              "        vertical-align: top;\n",
              "    }\n",
              "\n",
              "    .dataframe thead th {\n",
              "        text-align: right;\n",
              "    }\n",
              "</style>\n",
              "<table border=\"1\" class=\"dataframe\">\n",
              "  <thead>\n",
              "    <tr style=\"text-align: right;\">\n",
              "      <th></th>\n",
              "      <th>Labor Level</th>\n",
              "    </tr>\n",
              "  </thead>\n",
              "  <tbody>\n",
              "    <tr>\n",
              "      <th>count</th>\n",
              "      <td>26.000000</td>\n",
              "    </tr>\n",
              "    <tr>\n",
              "      <th>mean</th>\n",
              "      <td>161196.730769</td>\n",
              "    </tr>\n",
              "    <tr>\n",
              "      <th>std</th>\n",
              "      <td>1802.674958</td>\n",
              "    </tr>\n",
              "    <tr>\n",
              "      <th>min</th>\n",
              "      <td>156358.000000</td>\n",
              "    </tr>\n",
              "    <tr>\n",
              "      <th>25%</th>\n",
              "      <td>160404.000000</td>\n",
              "    </tr>\n",
              "    <tr>\n",
              "      <th>50%</th>\n",
              "      <td>160906.000000</td>\n",
              "    </tr>\n",
              "    <tr>\n",
              "      <th>75%</th>\n",
              "      <td>161997.000000</td>\n",
              "    </tr>\n",
              "    <tr>\n",
              "      <th>max</th>\n",
              "      <td>164583.000000</td>\n",
              "    </tr>\n",
              "  </tbody>\n",
              "</table>\n",
              "</div>\n",
              "      <button class=\"colab-df-convert\" onclick=\"convertToInteractive('df-8e929257-5229-46fc-9eb2-f0ffc4084d97')\"\n",
              "              title=\"Convert this dataframe to an interactive table.\"\n",
              "              style=\"display:none;\">\n",
              "        \n",
              "  <svg xmlns=\"http://www.w3.org/2000/svg\" height=\"24px\"viewBox=\"0 0 24 24\"\n",
              "       width=\"24px\">\n",
              "    <path d=\"M0 0h24v24H0V0z\" fill=\"none\"/>\n",
              "    <path d=\"M18.56 5.44l.94 2.06.94-2.06 2.06-.94-2.06-.94-.94-2.06-.94 2.06-2.06.94zm-11 1L8.5 8.5l.94-2.06 2.06-.94-2.06-.94L8.5 2.5l-.94 2.06-2.06.94zm10 10l.94 2.06.94-2.06 2.06-.94-2.06-.94-.94-2.06-.94 2.06-2.06.94z\"/><path d=\"M17.41 7.96l-1.37-1.37c-.4-.4-.92-.59-1.43-.59-.52 0-1.04.2-1.43.59L10.3 9.45l-7.72 7.72c-.78.78-.78 2.05 0 2.83L4 21.41c.39.39.9.59 1.41.59.51 0 1.02-.2 1.41-.59l7.78-7.78 2.81-2.81c.8-.78.8-2.07 0-2.86zM5.41 20L4 18.59l7.72-7.72 1.47 1.35L5.41 20z\"/>\n",
              "  </svg>\n",
              "      </button>\n",
              "      \n",
              "  <style>\n",
              "    .colab-df-container {\n",
              "      display:flex;\n",
              "      flex-wrap:wrap;\n",
              "      gap: 12px;\n",
              "    }\n",
              "\n",
              "    .colab-df-convert {\n",
              "      background-color: #E8F0FE;\n",
              "      border: none;\n",
              "      border-radius: 50%;\n",
              "      cursor: pointer;\n",
              "      display: none;\n",
              "      fill: #1967D2;\n",
              "      height: 32px;\n",
              "      padding: 0 0 0 0;\n",
              "      width: 32px;\n",
              "    }\n",
              "\n",
              "    .colab-df-convert:hover {\n",
              "      background-color: #E2EBFA;\n",
              "      box-shadow: 0px 1px 2px rgba(60, 64, 67, 0.3), 0px 1px 3px 1px rgba(60, 64, 67, 0.15);\n",
              "      fill: #174EA6;\n",
              "    }\n",
              "\n",
              "    [theme=dark] .colab-df-convert {\n",
              "      background-color: #3B4455;\n",
              "      fill: #D2E3FC;\n",
              "    }\n",
              "\n",
              "    [theme=dark] .colab-df-convert:hover {\n",
              "      background-color: #434B5C;\n",
              "      box-shadow: 0px 1px 3px 1px rgba(0, 0, 0, 0.15);\n",
              "      filter: drop-shadow(0px 1px 2px rgba(0, 0, 0, 0.3));\n",
              "      fill: #FFFFFF;\n",
              "    }\n",
              "  </style>\n",
              "\n",
              "      <script>\n",
              "        const buttonEl =\n",
              "          document.querySelector('#df-8e929257-5229-46fc-9eb2-f0ffc4084d97 button.colab-df-convert');\n",
              "        buttonEl.style.display =\n",
              "          google.colab.kernel.accessAllowed ? 'block' : 'none';\n",
              "\n",
              "        async function convertToInteractive(key) {\n",
              "          const element = document.querySelector('#df-8e929257-5229-46fc-9eb2-f0ffc4084d97');\n",
              "          const dataTable =\n",
              "            await google.colab.kernel.invokeFunction('convertToInteractive',\n",
              "                                                     [key], {});\n",
              "          if (!dataTable) return;\n",
              "\n",
              "          const docLinkHtml = 'Like what you see? Visit the ' +\n",
              "            '<a target=\"_blank\" href=https://colab.research.google.com/notebooks/data_table.ipynb>data table notebook</a>'\n",
              "            + ' to learn more about interactive tables.';\n",
              "          element.innerHTML = '';\n",
              "          dataTable['output_type'] = 'display_data';\n",
              "          await google.colab.output.renderOutput(dataTable, element);\n",
              "          const docLink = document.createElement('div');\n",
              "          docLink.innerHTML = docLinkHtml;\n",
              "          element.appendChild(docLink);\n",
              "        }\n",
              "      </script>\n",
              "    </div>\n",
              "  </div>\n",
              "  "
            ]
          },
          "metadata": {},
          "execution_count": 10
        }
      ]
    },
    {
      "cell_type": "markdown",
      "source": [
        "##### Normalizing data"
      ],
      "metadata": {
        "id": "ocZVECXHxBj1"
      }
    },
    {
      "cell_type": "code",
      "source": [
        "# Check normal distribution of orginal data\n",
        "shapiro_test = stats.shapiro(lfl_data)\n",
        "print('original:')\n",
        "print(shapiro_test)\n",
        "# logging the data \n",
        "loglfl = np.log(lfl_data)\n",
        "log_shapiro_test = stats.shapiro(loglfl)\n",
        "print('log:')\n",
        "print(log_shapiro_test)\n",
        "#differencing the data \n",
        "difflfl = np.diff(lfl_data)\n",
        "diff_shapiro_test = stats.shapiro(difflfl)\n",
        "print('diff:')\n",
        "print(diff_shapiro_test)\n",
        "# normalizing by code\n",
        "group_lfl = lfl_uncheck.groupby('DATE').sum()\n",
        "group_lfl.index = pd.to_datetime(group_lfl.index)\n",
        "nlfl = preprocessing.normalize(group_lfl, axis=0)\n",
        "scaled = pd.DataFrame(nlfl)\n",
        "n_shapiro_test = stats.shapiro(scaled)\n",
        "print(\"normalize code:\")\n",
        "print(n_shapiro_test)"
      ],
      "metadata": {
        "colab": {
          "base_uri": "https://localhost:8080/"
        },
        "id": "weN8Jb6U81dW",
        "outputId": "9a67896a-d9ab-4203-d941-8d5bc0d31c8c"
      },
      "execution_count": null,
      "outputs": [
        {
          "output_type": "stream",
          "name": "stdout",
          "text": [
            "original:\n",
            "(0.9342377185821533, 0.097803495824337)\n",
            "log:\n",
            "(0.933098554611206, 0.0918637290596962)\n",
            "diff:\n",
            "(0.6231579184532166, 7.886824846536911e-07)\n",
            "normalize code:\n",
            "(0.9342381358146667, 0.0978056937456131)\n"
          ]
        }
      ]
    },
    {
      "cell_type": "code",
      "source": [
        "lfl = lfl_uncheck"
      ],
      "metadata": {
        "id": "uz2SRY-kx6Gd"
      },
      "execution_count": null,
      "outputs": []
    },
    {
      "cell_type": "markdown",
      "source": [
        "The orignal data is normal distribution.\n",
        "\n",
        "Highest w value: 0.934>0.9\n",
        "\n",
        "Highest p value: 0.0978>0.05"
      ],
      "metadata": {
        "id": "nPPPQokJ-aMt"
      }
    },
    {
      "cell_type": "markdown",
      "source": [
        "#### Covid Data\n",
        "\n",
        "---"
      ],
      "metadata": {
        "id": "ksOClKYlF0zE"
      }
    },
    {
      "cell_type": "markdown",
      "source": [
        "##### Plot data and adjust data"
      ],
      "metadata": {
        "id": "-eNuP-BUymMZ"
      }
    },
    {
      "cell_type": "code",
      "source": [
        "#Covid Daily Data\n",
        "covid_daily_data = pd.read_csv('Covid.csv')\n",
        "covid_daily_clear = covid_daily_data.drop(columns = [\"fips\", \"state\", \"county\",\"deaths\"])\n",
        "covid_daily = covid_daily_clear.groupby('date').sum()\n",
        "#Convert daily data to monthly data\n",
        "covid_daily.index = pd.to_datetime(covid_daily.index)\n",
        "covid_monthly = covid_daily.resample('M').sum()\n",
        "plt.figure()\n",
        "covid_monthly.plot()\n",
        "# As the covid data collect at the end of the month, we adjust data to fit other data\n",
        "covid_uncheck = covid_monthly[:26]\n",
        "covid_uncheck.plot()\n",
        "#for covid data\n",
        "covid_data = covid_uncheck['cases']\n",
        "covid_uncheck"
      ],
      "metadata": {
        "colab": {
          "base_uri": "https://localhost:8080/"
        },
        "id": "7_y6A0QL_ciX",
        "outputId": "db5d762e-797f-4d9b-b6e8-7f3079390693"
      },
      "execution_count": null,
      "outputs": [
        {
          "output_type": "execute_result",
          "data": {
            "text/plain": [
              "                 cases\n",
              "date                  \n",
              "2020-01-31          41\n",
              "2020-02-29         736\n",
              "2020-03-31     1095533\n",
              "2020-04-30    19611708\n",
              "2020-05-31    45452114\n",
              "2020-06-30    65288844\n",
              "2020-07-31   111626136\n",
              "2020-08-31   166758528\n",
              "2020-09-30   199758786\n",
              "2020-10-31   252794114\n",
              "2020-11-30   338932078\n",
              "2020-12-31   525970605\n",
              "2021-01-31   729984096\n",
              "2021-02-28   773617710\n",
              "2021-03-31   916857453\n",
              "2021-04-30   944997168\n",
              "2021-05-31  1020501942\n",
              "2021-06-30  1003878600\n",
              "2021-07-31  1059339596\n",
              "2021-08-31  1148978762\n",
              "2021-09-30  1247666211\n",
              "2021-10-31  1390097002\n",
              "2021-11-30  1417533896\n",
              "2021-12-31  1575677425\n",
              "2022-01-31  2037666117\n",
              "2022-02-28  2173725838"
            ],
            "text/html": [
              "\n",
              "  <div id=\"df-a7e54554-0620-4985-8d68-0bc3fda5af5f\">\n",
              "    <div class=\"colab-df-container\">\n",
              "      <div>\n",
              "<style scoped>\n",
              "    .dataframe tbody tr th:only-of-type {\n",
              "        vertical-align: middle;\n",
              "    }\n",
              "\n",
              "    .dataframe tbody tr th {\n",
              "        vertical-align: top;\n",
              "    }\n",
              "\n",
              "    .dataframe thead th {\n",
              "        text-align: right;\n",
              "    }\n",
              "</style>\n",
              "<table border=\"1\" class=\"dataframe\">\n",
              "  <thead>\n",
              "    <tr style=\"text-align: right;\">\n",
              "      <th></th>\n",
              "      <th>cases</th>\n",
              "    </tr>\n",
              "    <tr>\n",
              "      <th>date</th>\n",
              "      <th></th>\n",
              "    </tr>\n",
              "  </thead>\n",
              "  <tbody>\n",
              "    <tr>\n",
              "      <th>2020-01-31</th>\n",
              "      <td>41</td>\n",
              "    </tr>\n",
              "    <tr>\n",
              "      <th>2020-02-29</th>\n",
              "      <td>736</td>\n",
              "    </tr>\n",
              "    <tr>\n",
              "      <th>2020-03-31</th>\n",
              "      <td>1095533</td>\n",
              "    </tr>\n",
              "    <tr>\n",
              "      <th>2020-04-30</th>\n",
              "      <td>19611708</td>\n",
              "    </tr>\n",
              "    <tr>\n",
              "      <th>2020-05-31</th>\n",
              "      <td>45452114</td>\n",
              "    </tr>\n",
              "    <tr>\n",
              "      <th>2020-06-30</th>\n",
              "      <td>65288844</td>\n",
              "    </tr>\n",
              "    <tr>\n",
              "      <th>2020-07-31</th>\n",
              "      <td>111626136</td>\n",
              "    </tr>\n",
              "    <tr>\n",
              "      <th>2020-08-31</th>\n",
              "      <td>166758528</td>\n",
              "    </tr>\n",
              "    <tr>\n",
              "      <th>2020-09-30</th>\n",
              "      <td>199758786</td>\n",
              "    </tr>\n",
              "    <tr>\n",
              "      <th>2020-10-31</th>\n",
              "      <td>252794114</td>\n",
              "    </tr>\n",
              "    <tr>\n",
              "      <th>2020-11-30</th>\n",
              "      <td>338932078</td>\n",
              "    </tr>\n",
              "    <tr>\n",
              "      <th>2020-12-31</th>\n",
              "      <td>525970605</td>\n",
              "    </tr>\n",
              "    <tr>\n",
              "      <th>2021-01-31</th>\n",
              "      <td>729984096</td>\n",
              "    </tr>\n",
              "    <tr>\n",
              "      <th>2021-02-28</th>\n",
              "      <td>773617710</td>\n",
              "    </tr>\n",
              "    <tr>\n",
              "      <th>2021-03-31</th>\n",
              "      <td>916857453</td>\n",
              "    </tr>\n",
              "    <tr>\n",
              "      <th>2021-04-30</th>\n",
              "      <td>944997168</td>\n",
              "    </tr>\n",
              "    <tr>\n",
              "      <th>2021-05-31</th>\n",
              "      <td>1020501942</td>\n",
              "    </tr>\n",
              "    <tr>\n",
              "      <th>2021-06-30</th>\n",
              "      <td>1003878600</td>\n",
              "    </tr>\n",
              "    <tr>\n",
              "      <th>2021-07-31</th>\n",
              "      <td>1059339596</td>\n",
              "    </tr>\n",
              "    <tr>\n",
              "      <th>2021-08-31</th>\n",
              "      <td>1148978762</td>\n",
              "    </tr>\n",
              "    <tr>\n",
              "      <th>2021-09-30</th>\n",
              "      <td>1247666211</td>\n",
              "    </tr>\n",
              "    <tr>\n",
              "      <th>2021-10-31</th>\n",
              "      <td>1390097002</td>\n",
              "    </tr>\n",
              "    <tr>\n",
              "      <th>2021-11-30</th>\n",
              "      <td>1417533896</td>\n",
              "    </tr>\n",
              "    <tr>\n",
              "      <th>2021-12-31</th>\n",
              "      <td>1575677425</td>\n",
              "    </tr>\n",
              "    <tr>\n",
              "      <th>2022-01-31</th>\n",
              "      <td>2037666117</td>\n",
              "    </tr>\n",
              "    <tr>\n",
              "      <th>2022-02-28</th>\n",
              "      <td>2173725838</td>\n",
              "    </tr>\n",
              "  </tbody>\n",
              "</table>\n",
              "</div>\n",
              "      <button class=\"colab-df-convert\" onclick=\"convertToInteractive('df-a7e54554-0620-4985-8d68-0bc3fda5af5f')\"\n",
              "              title=\"Convert this dataframe to an interactive table.\"\n",
              "              style=\"display:none;\">\n",
              "        \n",
              "  <svg xmlns=\"http://www.w3.org/2000/svg\" height=\"24px\"viewBox=\"0 0 24 24\"\n",
              "       width=\"24px\">\n",
              "    <path d=\"M0 0h24v24H0V0z\" fill=\"none\"/>\n",
              "    <path d=\"M18.56 5.44l.94 2.06.94-2.06 2.06-.94-2.06-.94-.94-2.06-.94 2.06-2.06.94zm-11 1L8.5 8.5l.94-2.06 2.06-.94-2.06-.94L8.5 2.5l-.94 2.06-2.06.94zm10 10l.94 2.06.94-2.06 2.06-.94-2.06-.94-.94-2.06-.94 2.06-2.06.94z\"/><path d=\"M17.41 7.96l-1.37-1.37c-.4-.4-.92-.59-1.43-.59-.52 0-1.04.2-1.43.59L10.3 9.45l-7.72 7.72c-.78.78-.78 2.05 0 2.83L4 21.41c.39.39.9.59 1.41.59.51 0 1.02-.2 1.41-.59l7.78-7.78 2.81-2.81c.8-.78.8-2.07 0-2.86zM5.41 20L4 18.59l7.72-7.72 1.47 1.35L5.41 20z\"/>\n",
              "  </svg>\n",
              "      </button>\n",
              "      \n",
              "  <style>\n",
              "    .colab-df-container {\n",
              "      display:flex;\n",
              "      flex-wrap:wrap;\n",
              "      gap: 12px;\n",
              "    }\n",
              "\n",
              "    .colab-df-convert {\n",
              "      background-color: #E8F0FE;\n",
              "      border: none;\n",
              "      border-radius: 50%;\n",
              "      cursor: pointer;\n",
              "      display: none;\n",
              "      fill: #1967D2;\n",
              "      height: 32px;\n",
              "      padding: 0 0 0 0;\n",
              "      width: 32px;\n",
              "    }\n",
              "\n",
              "    .colab-df-convert:hover {\n",
              "      background-color: #E2EBFA;\n",
              "      box-shadow: 0px 1px 2px rgba(60, 64, 67, 0.3), 0px 1px 3px 1px rgba(60, 64, 67, 0.15);\n",
              "      fill: #174EA6;\n",
              "    }\n",
              "\n",
              "    [theme=dark] .colab-df-convert {\n",
              "      background-color: #3B4455;\n",
              "      fill: #D2E3FC;\n",
              "    }\n",
              "\n",
              "    [theme=dark] .colab-df-convert:hover {\n",
              "      background-color: #434B5C;\n",
              "      box-shadow: 0px 1px 3px 1px rgba(0, 0, 0, 0.15);\n",
              "      filter: drop-shadow(0px 1px 2px rgba(0, 0, 0, 0.3));\n",
              "      fill: #FFFFFF;\n",
              "    }\n",
              "  </style>\n",
              "\n",
              "      <script>\n",
              "        const buttonEl =\n",
              "          document.querySelector('#df-a7e54554-0620-4985-8d68-0bc3fda5af5f button.colab-df-convert');\n",
              "        buttonEl.style.display =\n",
              "          google.colab.kernel.accessAllowed ? 'block' : 'none';\n",
              "\n",
              "        async function convertToInteractive(key) {\n",
              "          const element = document.querySelector('#df-a7e54554-0620-4985-8d68-0bc3fda5af5f');\n",
              "          const dataTable =\n",
              "            await google.colab.kernel.invokeFunction('convertToInteractive',\n",
              "                                                     [key], {});\n",
              "          if (!dataTable) return;\n",
              "\n",
              "          const docLinkHtml = 'Like what you see? Visit the ' +\n",
              "            '<a target=\"_blank\" href=https://colab.research.google.com/notebooks/data_table.ipynb>data table notebook</a>'\n",
              "            + ' to learn more about interactive tables.';\n",
              "          element.innerHTML = '';\n",
              "          dataTable['output_type'] = 'display_data';\n",
              "          await google.colab.output.renderOutput(dataTable, element);\n",
              "          const docLink = document.createElement('div');\n",
              "          docLink.innerHTML = docLinkHtml;\n",
              "          element.appendChild(docLink);\n",
              "        }\n",
              "      </script>\n",
              "    </div>\n",
              "  </div>\n",
              "  "
            ]
          },
          "metadata": {},
          "execution_count": 123
        },
        {
          "output_type": "display_data",
          "data": {
            "text/plain": [
              "<Figure size 432x288 with 0 Axes>"
            ]
          },
          "metadata": {}
        },
        {
          "output_type": "display_data",
          "data": {
            "text/plain": [
              "<Figure size 432x288 with 1 Axes>"
            ],
            "image/png": "[encoded data removed]"
          },
          "metadata": {
            "needs_background": "light"
          }
        },
        {
          "output_type": "display_data",
          "data": {
            "text/plain": [
              "<Figure size 432x288 with 1 Axes>"
            ],
            "image/png": "[encoded data removed]"
          },
          "metadata": {
            "needs_background": "light"
          }
        }
      ]
    },
    {
      "cell_type": "code",
      "source": [
        "plt.hist(covid_data)"
      ],
      "metadata": {
        "colab": {
          "base_uri": "https://localhost:8080/"
        },
        "id": "pkowp626GSzJ",
        "outputId": "48802a73-85fb-4b04-bbf2-c1a7a2119da6"
      },
      "execution_count": null,
      "outputs": [
        {
          "output_type": "execute_result",
          "data": {
            "text/plain": [
              "(array([9., 2., 1., 2., 5., 2., 2., 1., 0., 2.]),\n",
              " array([4.10000000e+01, 2.17372621e+08, 4.34745200e+08, 6.52117780e+08,\n",
              "        8.69490360e+08, 1.08686294e+09, 1.30423552e+09, 1.52160810e+09,\n",
              "        1.73898068e+09, 1.95635326e+09, 2.17372584e+09]),\n",
              " <a list of 10 Patch objects>)"
            ]
          },
          "metadata": {},
          "execution_count": 124
        },
        {
          "output_type": "display_data",
          "data": {
            "text/plain": [
              "<Figure size 432x288 with 1 Axes>"
            ],
            "image/png": "[encoded data removed]"
          },
          "metadata": {
            "needs_background": "light"
          }
        }
      ]
    },
    {
      "cell_type": "markdown",
      "source": [
        "##### Summary statistics"
      ],
      "metadata": {
        "id": "7rkCJLHXYVf0"
      }
    },
    {
      "cell_type": "code",
      "source": [
        "covid_uncheck.describe()"
      ],
      "metadata": {
        "colab": {
          "base_uri": "https://localhost:8080/"
        },
        "id": "tkZTbTwMYbbR",
        "outputId": "2ef2b77d-4291-4cfe-e12d-8e7bd3f77fe8"
      },
      "execution_count": null,
      "outputs": [
        {
          "output_type": "execute_result",
          "data": {
            "text/plain": [
              "              cases\n",
              "count  2.600000e+01\n",
              "mean   7.372235e+08\n",
              "std    6.519594e+08\n",
              "min    4.100000e+01\n",
              "25%    1.254092e+08\n",
              "50%    7.518009e+08\n",
              "75%    1.126569e+09\n",
              "max    2.173726e+09"
            ],
            "text/html": [
              "\n",
              "  <div id=\"df-14a5a0b0-878c-4295-b587-718275fd6497\">\n",
              "    <div class=\"colab-df-container\">\n",
              "      <div>\n",
              "<style scoped>\n",
              "    .dataframe tbody tr th:only-of-type {\n",
              "        vertical-align: middle;\n",
              "    }\n",
              "\n",
              "    .dataframe tbody tr th {\n",
              "        vertical-align: top;\n",
              "    }\n",
              "\n",
              "    .dataframe thead th {\n",
              "        text-align: right;\n",
              "    }\n",
              "</style>\n",
              "<table border=\"1\" class=\"dataframe\">\n",
              "  <thead>\n",
              "    <tr style=\"text-align: right;\">\n",
              "      <th></th>\n",
              "      <th>cases</th>\n",
              "    </tr>\n",
              "  </thead>\n",
              "  <tbody>\n",
              "    <tr>\n",
              "      <th>count</th>\n",
              "      <td>2.600000e+01</td>\n",
              "    </tr>\n",
              "    <tr>\n",
              "      <th>mean</th>\n",
              "      <td>7.372235e+08</td>\n",
              "    </tr>\n",
              "    <tr>\n",
              "      <th>std</th>\n",
              "      <td>6.519594e+08</td>\n",
              "    </tr>\n",
              "    <tr>\n",
              "      <th>min</th>\n",
              "      <td>4.100000e+01</td>\n",
              "    </tr>\n",
              "    <tr>\n",
              "      <th>25%</th>\n",
              "      <td>1.254092e+08</td>\n",
              "    </tr>\n",
              "    <tr>\n",
              "      <th>50%</th>\n",
              "      <td>7.518009e+08</td>\n",
              "    </tr>\n",
              "    <tr>\n",
              "      <th>75%</th>\n",
              "      <td>1.126569e+09</td>\n",
              "    </tr>\n",
              "    <tr>\n",
              "      <th>max</th>\n",
              "      <td>2.173726e+09</td>\n",
              "    </tr>\n",
              "  </tbody>\n",
              "</table>\n",
              "</div>\n",
              "      <button class=\"colab-df-convert\" onclick=\"convertToInteractive('df-14a5a0b0-878c-4295-b587-718275fd6497')\"\n",
              "              title=\"Convert this dataframe to an interactive table.\"\n",
              "              style=\"display:none;\">\n",
              "        \n",
              "  <svg xmlns=\"http://www.w3.org/2000/svg\" height=\"24px\"viewBox=\"0 0 24 24\"\n",
              "       width=\"24px\">\n",
              "    <path d=\"M0 0h24v24H0V0z\" fill=\"none\"/>\n",
              "    <path d=\"M18.56 5.44l.94 2.06.94-2.06 2.06-.94-2.06-.94-.94-2.06-.94 2.06-2.06.94zm-11 1L8.5 8.5l.94-2.06 2.06-.94-2.06-.94L8.5 2.5l-.94 2.06-2.06.94zm10 10l.94 2.06.94-2.06 2.06-.94-2.06-.94-.94-2.06-.94 2.06-2.06.94z\"/><path d=\"M17.41 7.96l-1.37-1.37c-.4-.4-.92-.59-1.43-.59-.52 0-1.04.2-1.43.59L10.3 9.45l-7.72 7.72c-.78.78-.78 2.05 0 2.83L4 21.41c.39.39.9.59 1.41.59.51 0 1.02-.2 1.41-.59l7.78-7.78 2.81-2.81c.8-.78.8-2.07 0-2.86zM5.41 20L4 18.59l7.72-7.72 1.47 1.35L5.41 20z\"/>\n",
              "  </svg>\n",
              "      </button>\n",
              "      \n",
              "  <style>\n",
              "    .colab-df-container {\n",
              "      display:flex;\n",
              "      flex-wrap:wrap;\n",
              "      gap: 12px;\n",
              "    }\n",
              "\n",
              "    .colab-df-convert {\n",
              "      background-color: #E8F0FE;\n",
              "      border: none;\n",
              "      border-radius: 50%;\n",
              "      cursor: pointer;\n",
              "      display: none;\n",
              "      fill: #1967D2;\n",
              "      height: 32px;\n",
              "      padding: 0 0 0 0;\n",
              "      width: 32px;\n",
              "    }\n",
              "\n",
              "    .colab-df-convert:hover {\n",
              "      background-color: #E2EBFA;\n",
              "      box-shadow: 0px 1px 2px rgba(60, 64, 67, 0.3), 0px 1px 3px 1px rgba(60, 64, 67, 0.15);\n",
              "      fill: #174EA6;\n",
              "    }\n",
              "\n",
              "    [theme=dark] .colab-df-convert {\n",
              "      background-color: #3B4455;\n",
              "      fill: #D2E3FC;\n",
              "    }\n",
              "\n",
              "    [theme=dark] .colab-df-convert:hover {\n",
              "      background-color: #434B5C;\n",
              "      box-shadow: 0px 1px 3px 1px rgba(0, 0, 0, 0.15);\n",
              "      filter: drop-shadow(0px 1px 2px rgba(0, 0, 0, 0.3));\n",
              "      fill: #FFFFFF;\n",
              "    }\n",
              "  </style>\n",
              "\n",
              "      <script>\n",
              "        const buttonEl =\n",
              "          document.querySelector('#df-14a5a0b0-878c-4295-b587-718275fd6497 button.colab-df-convert');\n",
              "        buttonEl.style.display =\n",
              "          google.colab.kernel.accessAllowed ? 'block' : 'none';\n",
              "\n",
              "        async function convertToInteractive(key) {\n",
              "          const element = document.querySelector('#df-14a5a0b0-878c-4295-b587-718275fd6497');\n",
              "          const dataTable =\n",
              "            await google.colab.kernel.invokeFunction('convertToInteractive',\n",
              "                                                     [key], {});\n",
              "          if (!dataTable) return;\n",
              "\n",
              "          const docLinkHtml = 'Like what you see? Visit the ' +\n",
              "            '<a target=\"_blank\" href=https://colab.research.google.com/notebooks/data_table.ipynb>data table notebook</a>'\n",
              "            + ' to learn more about interactive tables.';\n",
              "          element.innerHTML = '';\n",
              "          dataTable['output_type'] = 'display_data';\n",
              "          await google.colab.output.renderOutput(dataTable, element);\n",
              "          const docLink = document.createElement('div');\n",
              "          docLink.innerHTML = docLinkHtml;\n",
              "          element.appendChild(docLink);\n",
              "        }\n",
              "      </script>\n",
              "    </div>\n",
              "  </div>\n",
              "  "
            ]
          },
          "metadata": {},
          "execution_count": 125
        }
      ]
    },
    {
      "cell_type": "markdown",
      "source": [
        "##### Normalizing data"
      ],
      "metadata": {
        "id": "Ayik05F0yiN7"
      }
    },
    {
      "cell_type": "code",
      "source": [
        "# Check normal distribution of orginal data\n",
        "shapiro_test = stats.shapiro(covid_data)\n",
        "print('original:')\n",
        "print(shapiro_test)\n",
        "# logging the data \n",
        "logcovid = np.log(covid_data)\n",
        "log_shapiro_test = stats.shapiro(logcovid)\n",
        "print('log:')\n",
        "print(log_shapiro_test)\n",
        "#differencing the data \n",
        "diffcovid = np.diff(covid_data)\n",
        "diff_shapiro_test = stats.shapiro(diffcovid)\n",
        "print('diff:')\n",
        "print(diff_shapiro_test)\n",
        "# normalizing by code\n",
        "ncovid = preprocessing.normalize(covid_uncheck, axis=0)\n",
        "scaled = pd.DataFrame(ncovid)\n",
        "n_shapiro_test = stats.shapiro(scaled)\n",
        "print(\"normalize code:\")\n",
        "print(n_shapiro_test)\n"
      ],
      "metadata": {
        "colab": {
          "base_uri": "https://localhost:8080/"
        },
        "id": "Yvs-G6r9K7GN",
        "outputId": "86fab525-f375-4d21-ba7a-f14f8882f12c"
      },
      "execution_count": null,
      "outputs": [
        {
          "output_type": "stream",
          "name": "stdout",
          "text": [
            "original:\n",
            "(0.9100008010864258, 0.026363622397184372)\n",
            "log:\n",
            "(0.6142403483390808, 4.3331164079063456e-07)\n",
            "diff:\n",
            "(0.76456618309021, 6.162462523207068e-05)\n",
            "normalize code:\n",
            "(0.9100006222724915, 0.02636341005563736)\n"
          ]
        }
      ]
    },
    {
      "cell_type": "code",
      "source": [
        "covid = covid_uncheck"
      ],
      "metadata": {
        "id": "t8TzOzbwy9Mc"
      },
      "execution_count": null,
      "outputs": []
    },
    {
      "cell_type": "markdown",
      "source": [
        "The orignal data perform best among all the methods.\n",
        "\n",
        "Highest w value: 0.91>0.9\n",
        "\n",
        "Highest p value: 0.02"
      ],
      "metadata": {
        "id": "KCe0WPljMgWn"
      }
    },
    {
      "cell_type": "markdown",
      "source": [
        "#### Labor Participate Rate Data\n",
        "\n",
        "---\n"
      ],
      "metadata": {
        "id": "SVZlLL9H1SPW"
      }
    },
    {
      "cell_type": "markdown",
      "source": [
        "#####  Plot data and adjust data\n",
        "\n",
        "\n",
        "\n"
      ],
      "metadata": {
        "id": "HiZG4czf1XuZ"
      }
    },
    {
      "cell_type": "code",
      "source": [
        "#Labor participate\n",
        "labor_participate= pd.read_csv('LaborParticipate.csv')\n",
        "plt.figure()\n",
        "labor_participate.plot(0,1)\n",
        "#obtain data from 2020/02/01 to 2022/03/01\n",
        "lpr_uncheck = labor_participate[865:]\n",
        "lpr_uncheck.plot(0,1)\n",
        "#for labor force level data\n",
        "lpr_data = lpr_uncheck['Labor Participate']\n",
        "lpr_uncheck"
      ],
      "metadata": {
        "id": "a3C5Kv2U1YWq",
        "colab": {
          "base_uri": "https://localhost:8080/"
        },
        "outputId": "1513fa57-aba1-4bbe-b786-3d9dde4b1d3d"
      },
      "execution_count": null,
      "outputs": [
        {
          "output_type": "execute_result",
          "data": {
            "text/plain": [
              "           DATE  Labor Participate\n",
              "865  2020-02-01               63.4\n",
              "866  2020-03-01               62.7\n",
              "867  2020-04-01               60.2\n",
              "868  2020-05-01               60.8\n",
              "869  2020-06-01               61.4\n",
              "870  2020-07-01               61.5\n",
              "871  2020-08-01               61.7\n",
              "872  2020-09-01               61.4\n",
              "873  2020-10-01               61.6\n",
              "874  2020-11-01               61.5\n",
              "875  2020-12-01               61.5\n",
              "876  2021-01-01               61.4\n",
              "877  2021-02-01               61.5\n",
              "878  2021-03-01               61.5\n",
              "879  2021-04-01               61.7\n",
              "880  2021-05-01               61.6\n",
              "881  2021-06-01               61.6\n",
              "882  2021-07-01               61.7\n",
              "883  2021-08-01               61.7\n",
              "884  2021-09-01               61.7\n",
              "885  2021-10-01               61.7\n",
              "886  2021-11-01               61.9\n",
              "887  2021-12-01               61.9\n",
              "888  2022-01-01               62.2\n",
              "889  2022-02-01               62.3\n",
              "890  2022-03-01               62.4"
            ],
            "text/html": [
              "\n",
              "  <div id=\"df-9826404f-0781-4ad5-a3cf-6f88d8be7a54\">\n",
              "    <div class=\"colab-df-container\">\n",
              "      <div>\n",
              "<style scoped>\n",
              "    .dataframe tbody tr th:only-of-type {\n",
              "        vertical-align: middle;\n",
              "    }\n",
              "\n",
              "    .dataframe tbody tr th {\n",
              "        vertical-align: top;\n",
              "    }\n",
              "\n",
              "    .dataframe thead th {\n",
              "        text-align: right;\n",
              "    }\n",
              "</style>\n",
              "<table border=\"1\" class=\"dataframe\">\n",
              "  <thead>\n",
              "    <tr style=\"text-align: right;\">\n",
              "      <th></th>\n",
              "      <th>DATE</th>\n",
              "      <th>Labor Participate</th>\n",
              "    </tr>\n",
              "  </thead>\n",
              "  <tbody>\n",
              "    <tr>\n",
              "      <th>865</th>\n",
              "      <td>2020-02-01</td>\n",
              "      <td>63.4</td>\n",
              "    </tr>\n",
              "    <tr>\n",
              "      <th>866</th>\n",
              "      <td>2020-03-01</td>\n",
              "      <td>62.7</td>\n",
              "    </tr>\n",
              "    <tr>\n",
              "      <th>867</th>\n",
              "      <td>2020-04-01</td>\n",
              "      <td>60.2</td>\n",
              "    </tr>\n",
              "    <tr>\n",
              "      <th>868</th>\n",
              "      <td>2020-05-01</td>\n",
              "      <td>60.8</td>\n",
              "    </tr>\n",
              "    <tr>\n",
              "      <th>869</th>\n",
              "      <td>2020-06-01</td>\n",
              "      <td>61.4</td>\n",
              "    </tr>\n",
              "    <tr>\n",
              "      <th>870</th>\n",
              "      <td>2020-07-01</td>\n",
              "      <td>61.5</td>\n",
              "    </tr>\n",
              "    <tr>\n",
              "      <th>871</th>\n",
              "      <td>2020-08-01</td>\n",
              "      <td>61.7</td>\n",
              "    </tr>\n",
              "    <tr>\n",
              "      <th>872</th>\n",
              "      <td>2020-09-01</td>\n",
              "      <td>61.4</td>\n",
              "    </tr>\n",
              "    <tr>\n",
              "      <th>873</th>\n",
              "      <td>2020-10-01</td>\n",
              "      <td>61.6</td>\n",
              "    </tr>\n",
              "    <tr>\n",
              "      <th>874</th>\n",
              "      <td>2020-11-01</td>\n",
              "      <td>61.5</td>\n",
              "    </tr>\n",
              "    <tr>\n",
              "      <th>875</th>\n",
              "      <td>2020-12-01</td>\n",
              "      <td>61.5</td>\n",
              "    </tr>\n",
              "    <tr>\n",
              "      <th>876</th>\n",
              "      <td>2021-01-01</td>\n",
              "      <td>61.4</td>\n",
              "    </tr>\n",
              "    <tr>\n",
              "      <th>877</th>\n",
              "      <td>2021-02-01</td>\n",
              "      <td>61.5</td>\n",
              "    </tr>\n",
              "    <tr>\n",
              "      <th>878</th>\n",
              "      <td>2021-03-01</td>\n",
              "      <td>61.5</td>\n",
              "    </tr>\n",
              "    <tr>\n",
              "      <th>879</th>\n",
              "      <td>2021-04-01</td>\n",
              "      <td>61.7</td>\n",
              "    </tr>\n",
              "    <tr>\n",
              "      <th>880</th>\n",
              "      <td>2021-05-01</td>\n",
              "      <td>61.6</td>\n",
              "    </tr>\n",
              "    <tr>\n",
              "      <th>881</th>\n",
              "      <td>2021-06-01</td>\n",
              "      <td>61.6</td>\n",
              "    </tr>\n",
              "    <tr>\n",
              "      <th>882</th>\n",
              "      <td>2021-07-01</td>\n",
              "      <td>61.7</td>\n",
              "    </tr>\n",
              "    <tr>\n",
              "      <th>883</th>\n",
              "      <td>2021-08-01</td>\n",
              "      <td>61.7</td>\n",
              "    </tr>\n",
              "    <tr>\n",
              "      <th>884</th>\n",
              "      <td>2021-09-01</td>\n",
              "      <td>61.7</td>\n",
              "    </tr>\n",
              "    <tr>\n",
              "      <th>885</th>\n",
              "      <td>2021-10-01</td>\n",
              "      <td>61.7</td>\n",
              "    </tr>\n",
              "    <tr>\n",
              "      <th>886</th>\n",
              "      <td>2021-11-01</td>\n",
              "      <td>61.9</td>\n",
              "    </tr>\n",
              "    <tr>\n",
              "      <th>887</th>\n",
              "      <td>2021-12-01</td>\n",
              "      <td>61.9</td>\n",
              "    </tr>\n",
              "    <tr>\n",
              "      <th>888</th>\n",
              "      <td>2022-01-01</td>\n",
              "      <td>62.2</td>\n",
              "    </tr>\n",
              "    <tr>\n",
              "      <th>889</th>\n",
              "      <td>2022-02-01</td>\n",
              "      <td>62.3</td>\n",
              "    </tr>\n",
              "    <tr>\n",
              "      <th>890</th>\n",
              "      <td>2022-03-01</td>\n",
              "      <td>62.4</td>\n",
              "    </tr>\n",
              "  </tbody>\n",
              "</table>\n",
              "</div>\n",
              "      <button class=\"colab-df-convert\" onclick=\"convertToInteractive('df-9826404f-0781-4ad5-a3cf-6f88d8be7a54')\"\n",
              "              title=\"Convert this dataframe to an interactive table.\"\n",
              "              style=\"display:none;\">\n",
              "        \n",
              "  <svg xmlns=\"http://www.w3.org/2000/svg\" height=\"24px\"viewBox=\"0 0 24 24\"\n",
              "       width=\"24px\">\n",
              "    <path d=\"M0 0h24v24H0V0z\" fill=\"none\"/>\n",
              "    <path d=\"M18.56 5.44l.94 2.06.94-2.06 2.06-.94-2.06-.94-.94-2.06-.94 2.06-2.06.94zm-11 1L8.5 8.5l.94-2.06 2.06-.94-2.06-.94L8.5 2.5l-.94 2.06-2.06.94zm10 10l.94 2.06.94-2.06 2.06-.94-2.06-.94-.94-2.06-.94 2.06-2.06.94z\"/><path d=\"M17.41 7.96l-1.37-1.37c-.4-.4-.92-.59-1.43-.59-.52 0-1.04.2-1.43.59L10.3 9.45l-7.72 7.72c-.78.78-.78 2.05 0 2.83L4 21.41c.39.39.9.59 1.41.59.51 0 1.02-.2 1.41-.59l7.78-7.78 2.81-2.81c.8-.78.8-2.07 0-2.86zM5.41 20L4 18.59l7.72-7.72 1.47 1.35L5.41 20z\"/>\n",
              "  </svg>\n",
              "      </button>\n",
              "      \n",
              "  <style>\n",
              "    .colab-df-container {\n",
              "      display:flex;\n",
              "      flex-wrap:wrap;\n",
              "      gap: 12px;\n",
              "    }\n",
              "\n",
              "    .colab-df-convert {\n",
              "      background-color: #E8F0FE;\n",
              "      border: none;\n",
              "      border-radius: 50%;\n",
              "      cursor: pointer;\n",
              "      display: none;\n",
              "      fill: #1967D2;\n",
              "      height: 32px;\n",
              "      padding: 0 0 0 0;\n",
              "      width: 32px;\n",
              "    }\n",
              "\n",
              "    .colab-df-convert:hover {\n",
              "      background-color: #E2EBFA;\n",
              "      box-shadow: 0px 1px 2px rgba(60, 64, 67, 0.3), 0px 1px 3px 1px rgba(60, 64, 67, 0.15);\n",
              "      fill: #174EA6;\n",
              "    }\n",
              "\n",
              "    [theme=dark] .colab-df-convert {\n",
              "      background-color: #3B4455;\n",
              "      fill: #D2E3FC;\n",
              "    }\n",
              "\n",
              "    [theme=dark] .colab-df-convert:hover {\n",
              "      background-color: #434B5C;\n",
              "      box-shadow: 0px 1px 3px 1px rgba(0, 0, 0, 0.15);\n",
              "      filter: drop-shadow(0px 1px 2px rgba(0, 0, 0, 0.3));\n",
              "      fill: #FFFFFF;\n",
              "    }\n",
              "  </style>\n",
              "\n",
              "      <script>\n",
              "        const buttonEl =\n",
              "          document.querySelector('#df-9826404f-0781-4ad5-a3cf-6f88d8be7a54 button.colab-df-convert');\n",
              "        buttonEl.style.display =\n",
              "          google.colab.kernel.accessAllowed ? 'block' : 'none';\n",
              "\n",
              "        async function convertToInteractive(key) {\n",
              "          const element = document.querySelector('#df-9826404f-0781-4ad5-a3cf-6f88d8be7a54');\n",
              "          const dataTable =\n",
              "            await google.colab.kernel.invokeFunction('convertToInteractive',\n",
              "                                                     [key], {});\n",
              "          if (!dataTable) return;\n",
              "\n",
              "          const docLinkHtml = 'Like what you see? Visit the ' +\n",
              "            '<a target=\"_blank\" href=https://colab.research.google.com/notebooks/data_table.ipynb>data table notebook</a>'\n",
              "            + ' to learn more about interactive tables.';\n",
              "          element.innerHTML = '';\n",
              "          dataTable['output_type'] = 'display_data';\n",
              "          await google.colab.output.renderOutput(dataTable, element);\n",
              "          const docLink = document.createElement('div');\n",
              "          docLink.innerHTML = docLinkHtml;\n",
              "          element.appendChild(docLink);\n",
              "        }\n",
              "      </script>\n",
              "    </div>\n",
              "  </div>\n",
              "  "
            ]
          },
          "metadata": {},
          "execution_count": 18
        },
        {
          "output_type": "display_data",
          "data": {
            "text/plain": [
              "<Figure size 432x288 with 0 Axes>"
            ]
          },
          "metadata": {}
        },
        {
          "output_type": "display_data",
          "data": {
            "text/plain": [
              "<Figure size 432x288 with 1 Axes>"
            ],
            "image/png": "[encoded data removed]"
          },
          "metadata": {
            "needs_background": "light"
          }
        },
        {
          "output_type": "display_data",
          "data": {
            "text/plain": [
              "<Figure size 432x288 with 1 Axes>"
            ],
            "image/png": "[encoded data removed]"
          },
          "metadata": {
            "needs_background": "light"
          }
        }
      ]
    },
    {
      "cell_type": "code",
      "source": [
        "plt.hist(lfl_data)"
      ],
      "metadata": {
        "colab": {
          "base_uri": "https://localhost:8080/"
        },
        "id": "aOc48ZaD3Awh",
        "outputId": "813d6644-32f4-41b9-cd82-58ca7e1e7831"
      },
      "execution_count": null,
      "outputs": [
        {
          "output_type": "execute_result",
          "data": {
            "text/plain": [
              "(array([1., 0., 1., 0., 5., 8., 4., 3., 1., 3.]),\n",
              " array([156358. , 157180.5, 158003. , 158825.5, 159648. , 160470.5,\n",
              "        161293. , 162115.5, 162938. , 163760.5, 164583. ]),\n",
              " <a list of 10 Patch objects>)"
            ]
          },
          "metadata": {},
          "execution_count": 19
        },
        {
          "output_type": "display_data",
          "data": {
            "text/plain": [
              "<Figure size 432x288 with 1 Axes>"
            ],
            "image/png": "[encoded data removed]"
          },
          "metadata": {
            "needs_background": "light"
          }
        }
      ]
    },
    {
      "cell_type": "markdown",
      "source": [
        "#####Summary statistics"
      ],
      "metadata": {
        "id": "oe32ctYyZOrx"
      }
    },
    {
      "cell_type": "code",
      "source": [
        "lpr_uncheck.describe()"
      ],
      "metadata": {
        "colab": {
          "base_uri": "https://localhost:8080/"
        },
        "id": "geCfYwoCZS0u",
        "outputId": "4a450aa8-3fe7-4f35-af9e-5063cd71e690"
      },
      "execution_count": null,
      "outputs": [
        {
          "output_type": "execute_result",
          "data": {
            "text/plain": [
              "       Labor Participate\n",
              "count          26.000000\n",
              "mean           61.711538\n",
              "std             0.587419\n",
              "min            60.200000\n",
              "25%            61.500000\n",
              "50%            61.650000\n",
              "75%            61.850000\n",
              "max            63.400000"
            ],
            "text/html": [
              "\n",
              "  <div id=\"df-25e37099-e3ee-4e00-8d2d-6d4709810944\">\n",
              "    <div class=\"colab-df-container\">\n",
              "      <div>\n",
              "<style scoped>\n",
              "    .dataframe tbody tr th:only-of-type {\n",
              "        vertical-align: middle;\n",
              "    }\n",
              "\n",
              "    .dataframe tbody tr th {\n",
              "        vertical-align: top;\n",
              "    }\n",
              "\n",
              "    .dataframe thead th {\n",
              "        text-align: right;\n",
              "    }\n",
              "</style>\n",
              "<table border=\"1\" class=\"dataframe\">\n",
              "  <thead>\n",
              "    <tr style=\"text-align: right;\">\n",
              "      <th></th>\n",
              "      <th>Labor Participate</th>\n",
              "    </tr>\n",
              "  </thead>\n",
              "  <tbody>\n",
              "    <tr>\n",
              "      <th>count</th>\n",
              "      <td>26.000000</td>\n",
              "    </tr>\n",
              "    <tr>\n",
              "      <th>mean</th>\n",
              "      <td>61.711538</td>\n",
              "    </tr>\n",
              "    <tr>\n",
              "      <th>std</th>\n",
              "      <td>0.587419</td>\n",
              "    </tr>\n",
              "    <tr>\n",
              "      <th>min</th>\n",
              "      <td>60.200000</td>\n",
              "    </tr>\n",
              "    <tr>\n",
              "      <th>25%</th>\n",
              "      <td>61.500000</td>\n",
              "    </tr>\n",
              "    <tr>\n",
              "      <th>50%</th>\n",
              "      <td>61.650000</td>\n",
              "    </tr>\n",
              "    <tr>\n",
              "      <th>75%</th>\n",
              "      <td>61.850000</td>\n",
              "    </tr>\n",
              "    <tr>\n",
              "      <th>max</th>\n",
              "      <td>63.400000</td>\n",
              "    </tr>\n",
              "  </tbody>\n",
              "</table>\n",
              "</div>\n",
              "      <button class=\"colab-df-convert\" onclick=\"convertToInteractive('df-25e37099-e3ee-4e00-8d2d-6d4709810944')\"\n",
              "              title=\"Convert this dataframe to an interactive table.\"\n",
              "              style=\"display:none;\">\n",
              "        \n",
              "  <svg xmlns=\"http://www.w3.org/2000/svg\" height=\"24px\"viewBox=\"0 0 24 24\"\n",
              "       width=\"24px\">\n",
              "    <path d=\"M0 0h24v24H0V0z\" fill=\"none\"/>\n",
              "    <path d=\"M18.56 5.44l.94 2.06.94-2.06 2.06-.94-2.06-.94-.94-2.06-.94 2.06-2.06.94zm-11 1L8.5 8.5l.94-2.06 2.06-.94-2.06-.94L8.5 2.5l-.94 2.06-2.06.94zm10 10l.94 2.06.94-2.06 2.06-.94-2.06-.94-.94-2.06-.94 2.06-2.06.94z\"/><path d=\"M17.41 7.96l-1.37-1.37c-.4-.4-.92-.59-1.43-.59-.52 0-1.04.2-1.43.59L10.3 9.45l-7.72 7.72c-.78.78-.78 2.05 0 2.83L4 21.41c.39.39.9.59 1.41.59.51 0 1.02-.2 1.41-.59l7.78-7.78 2.81-2.81c.8-.78.8-2.07 0-2.86zM5.41 20L4 18.59l7.72-7.72 1.47 1.35L5.41 20z\"/>\n",
              "  </svg>\n",
              "      </button>\n",
              "      \n",
              "  <style>\n",
              "    .colab-df-container {\n",
              "      display:flex;\n",
              "      flex-wrap:wrap;\n",
              "      gap: 12px;\n",
              "    }\n",
              "\n",
              "    .colab-df-convert {\n",
              "      background-color: #E8F0FE;\n",
              "      border: none;\n",
              "      border-radius: 50%;\n",
              "      cursor: pointer;\n",
              "      display: none;\n",
              "      fill: #1967D2;\n",
              "      height: 32px;\n",
              "      padding: 0 0 0 0;\n",
              "      width: 32px;\n",
              "    }\n",
              "\n",
              "    .colab-df-convert:hover {\n",
              "      background-color: #E2EBFA;\n",
              "      box-shadow: 0px 1px 2px rgba(60, 64, 67, 0.3), 0px 1px 3px 1px rgba(60, 64, 67, 0.15);\n",
              "      fill: #174EA6;\n",
              "    }\n",
              "\n",
              "    [theme=dark] .colab-df-convert {\n",
              "      background-color: #3B4455;\n",
              "      fill: #D2E3FC;\n",
              "    }\n",
              "\n",
              "    [theme=dark] .colab-df-convert:hover {\n",
              "      background-color: #434B5C;\n",
              "      box-shadow: 0px 1px 3px 1px rgba(0, 0, 0, 0.15);\n",
              "      filter: drop-shadow(0px 1px 2px rgba(0, 0, 0, 0.3));\n",
              "      fill: #FFFFFF;\n",
              "    }\n",
              "  </style>\n",
              "\n",
              "      <script>\n",
              "        const buttonEl =\n",
              "          document.querySelector('#df-25e37099-e3ee-4e00-8d2d-6d4709810944 button.colab-df-convert');\n",
              "        buttonEl.style.display =\n",
              "          google.colab.kernel.accessAllowed ? 'block' : 'none';\n",
              "\n",
              "        async function convertToInteractive(key) {\n",
              "          const element = document.querySelector('#df-25e37099-e3ee-4e00-8d2d-6d4709810944');\n",
              "          const dataTable =\n",
              "            await google.colab.kernel.invokeFunction('convertToInteractive',\n",
              "                                                     [key], {});\n",
              "          if (!dataTable) return;\n",
              "\n",
              "          const docLinkHtml = 'Like what you see? Visit the ' +\n",
              "            '<a target=\"_blank\" href=https://colab.research.google.com/notebooks/data_table.ipynb>data table notebook</a>'\n",
              "            + ' to learn more about interactive tables.';\n",
              "          element.innerHTML = '';\n",
              "          dataTable['output_type'] = 'display_data';\n",
              "          await google.colab.output.renderOutput(dataTable, element);\n",
              "          const docLink = document.createElement('div');\n",
              "          docLink.innerHTML = docLinkHtml;\n",
              "          element.appendChild(docLink);\n",
              "        }\n",
              "      </script>\n",
              "    </div>\n",
              "  </div>\n",
              "  "
            ]
          },
          "metadata": {},
          "execution_count": 20
        }
      ]
    },
    {
      "cell_type": "markdown",
      "source": [
        "##### Normalizing data"
      ],
      "metadata": {
        "id": "BrT1V7-p3S5m"
      }
    },
    {
      "cell_type": "code",
      "source": [
        "# Check normal distribution of orginal data\n",
        "shapiro_test = stats.shapiro(lpr_data)\n",
        "print('original:')\n",
        "print(shapiro_test)\n",
        "# logging the data \n",
        "loglpr = np.log(lpr_data)\n",
        "log_shapiro_test = stats.shapiro(loglpr)\n",
        "print('log:')\n",
        "print(log_shapiro_test)\n",
        "#differencing the data \n",
        "difflpr = np.diff(lpr_data)\n",
        "diff_shapiro_test = stats.shapiro(difflpr)\n",
        "print('diff:')\n",
        "print(diff_shapiro_test)\n",
        "# normalizing by code\n",
        "group_lpr = lpr_uncheck.groupby('DATE').sum()\n",
        "group_lpr.index = pd.to_datetime(group_lpr.index)\n",
        "nlpr = preprocessing.normalize(group_lpr, axis=0)\n",
        "scaled = pd.DataFrame(nlpr)\n",
        "n_shapiro_test = stats.shapiro(scaled)\n",
        "print(\"normalize code:\")\n",
        "print(n_shapiro_test)"
      ],
      "metadata": {
        "colab": {
          "base_uri": "https://localhost:8080/"
        },
        "id": "hmKzlaOG3Zjh",
        "outputId": "8edfe708-ae36-4bba-be2f-d2c5b0d6afaa"
      },
      "execution_count": null,
      "outputs": [
        {
          "output_type": "stream",
          "name": "stdout",
          "text": [
            "original:\n",
            "(0.879936158657074, 0.005738910287618637)\n",
            "log:\n",
            "(0.8809369206428528, 0.0060254367999732494)\n",
            "diff:\n",
            "(0.588778018951416, 3.184936474553979e-07)\n",
            "normalize code:\n",
            "(0.8799363970756531, 0.005738988518714905)\n"
          ]
        }
      ]
    },
    {
      "cell_type": "code",
      "source": [
        "lpr_loglist = list(loglpr)\n",
        "lpr_uncheck['loglpr'] = list(loglpr)\n",
        "lpr = lpr_uncheck "
      ],
      "metadata": {
        "colab": {
          "base_uri": "https://localhost:8080/"
        },
        "id": "_nYOapTx3xQD",
        "outputId": "196511c4-ee17-44c1-ad5c-d857cadd5f7f"
      },
      "execution_count": null,
      "outputs": [
        {
          "output_type": "stream",
          "name": "stderr",
          "text": [
            "/usr/local/lib/python3.7/dist-packages/ipykernel_launcher.py:2: SettingWithCopyWarning: \n",
            "A value is trying to be set on a copy of a slice from a DataFrame.\n",
            "Try using .loc[row_indexer,col_indexer] = value instead\n",
            "\n",
            "See the caveats in the documentation: https://pandas.pydata.org/pandas-docs/stable/user_guide/indexing.html#returning-a-view-versus-a-copy\n",
            "  \n"
          ]
        }
      ]
    },
    {
      "cell_type": "markdown",
      "source": [
        "The logged data perform best. We would use logged data\n",
        "\n",
        "Highest w value: 0.8809\n",
        "\n",
        "Highest p value: 0.006"
      ],
      "metadata": {
        "id": "3uZ_TE0u3_aE"
      }
    },
    {
      "cell_type": "markdown",
      "source": [
        "#### Dummy Data\n",
        "\n",
        "---"
      ],
      "metadata": {
        "id": "HUcRrRBu4KTJ"
      }
    },
    {
      "cell_type": "markdown",
      "source": [
        "##### Describe data \n"
      ],
      "metadata": {
        "id": "Qd4ULzie4Ynw"
      }
    },
    {
      "cell_type": "code",
      "source": [
        "dum = pd.read_csv('DummySet.csv')\n",
        "dum\n"
      ],
      "metadata": {
        "colab": {
          "base_uri": "https://localhost:8080/"
        },
        "id": "BE_5CM5L4dJm",
        "outputId": "4cf15c56-9400-46c8-b946-fad42f741581"
      },
      "execution_count": null,
      "outputs": [
        {
          "output_type": "execute_result",
          "data": {
            "text/plain": [
              "          DATE  Unemployment Rate  Labor Level  Covid\n",
              "0     1/1/1948                3.4        60095      0\n",
              "1     2/1/1948                3.8        60524      0\n",
              "2     3/1/1948                4.0        60070      0\n",
              "3     4/1/1948                3.9        60677      0\n",
              "4     5/1/1948                3.5        59972      0\n",
              "..         ...                ...          ...    ...\n",
              "886  11/1/2021                4.2       162126      1\n",
              "887  12/1/2021                3.9       162294      1\n",
              "888   1/1/2022                4.0       163687      1\n",
              "889   2/1/2022                3.8       163991      1\n",
              "890   3/1/2022                3.6       164409      1\n",
              "\n",
              "[891 rows x 4 columns]"
            ],
            "text/html": [
              "\n",
              "  <div id=\"df-aac0053f-d54d-472d-b9a5-4e207b0aaf5e\">\n",
              "    <div class=\"colab-df-container\">\n",
              "      <div>\n",
              "<style scoped>\n",
              "    .dataframe tbody tr th:only-of-type {\n",
              "        vertical-align: middle;\n",
              "    }\n",
              "\n",
              "    .dataframe tbody tr th {\n",
              "        vertical-align: top;\n",
              "    }\n",
              "\n",
              "    .dataframe thead th {\n",
              "        text-align: right;\n",
              "    }\n",
              "</style>\n",
              "<table border=\"1\" class=\"dataframe\">\n",
              "  <thead>\n",
              "    <tr style=\"text-align: right;\">\n",
              "      <th></th>\n",
              "      <th>DATE</th>\n",
              "      <th>Unemployment Rate</th>\n",
              "      <th>Labor Level</th>\n",
              "      <th>Covid</th>\n",
              "    </tr>\n",
              "  </thead>\n",
              "  <tbody>\n",
              "    <tr>\n",
              "      <th>0</th>\n",
              "      <td>1/1/1948</td>\n",
              "      <td>3.4</td>\n",
              "      <td>60095</td>\n",
              "      <td>0</td>\n",
              "    </tr>\n",
              "    <tr>\n",
              "      <th>1</th>\n",
              "      <td>2/1/1948</td>\n",
              "      <td>3.8</td>\n",
              "      <td>60524</td>\n",
              "      <td>0</td>\n",
              "    </tr>\n",
              "    <tr>\n",
              "      <th>2</th>\n",
              "      <td>3/1/1948</td>\n",
              "      <td>4.0</td>\n",
              "      <td>60070</td>\n",
              "      <td>0</td>\n",
              "    </tr>\n",
              "    <tr>\n",
              "      <th>3</th>\n",
              "      <td>4/1/1948</td>\n",
              "      <td>3.9</td>\n",
              "      <td>60677</td>\n",
              "      <td>0</td>\n",
              "    </tr>\n",
              "    <tr>\n",
              "      <th>4</th>\n",
              "      <td>5/1/1948</td>\n",
              "      <td>3.5</td>\n",
              "      <td>59972</td>\n",
              "      <td>0</td>\n",
              "    </tr>\n",
              "    <tr>\n",
              "      <th>...</th>\n",
              "      <td>...</td>\n",
              "      <td>...</td>\n",
              "      <td>...</td>\n",
              "      <td>...</td>\n",
              "    </tr>\n",
              "    <tr>\n",
              "      <th>886</th>\n",
              "      <td>11/1/2021</td>\n",
              "      <td>4.2</td>\n",
              "      <td>162126</td>\n",
              "      <td>1</td>\n",
              "    </tr>\n",
              "    <tr>\n",
              "      <th>887</th>\n",
              "      <td>12/1/2021</td>\n",
              "      <td>3.9</td>\n",
              "      <td>162294</td>\n",
              "      <td>1</td>\n",
              "    </tr>\n",
              "    <tr>\n",
              "      <th>888</th>\n",
              "      <td>1/1/2022</td>\n",
              "      <td>4.0</td>\n",
              "      <td>163687</td>\n",
              "      <td>1</td>\n",
              "    </tr>\n",
              "    <tr>\n",
              "      <th>889</th>\n",
              "      <td>2/1/2022</td>\n",
              "      <td>3.8</td>\n",
              "      <td>163991</td>\n",
              "      <td>1</td>\n",
              "    </tr>\n",
              "    <tr>\n",
              "      <th>890</th>\n",
              "      <td>3/1/2022</td>\n",
              "      <td>3.6</td>\n",
              "      <td>164409</td>\n",
              "      <td>1</td>\n",
              "    </tr>\n",
              "  </tbody>\n",
              "</table>\n",
              "<p>891 rows × 4 columns</p>\n",
              "</div>\n",
              "      <button class=\"colab-df-convert\" onclick=\"convertToInteractive('df-aac0053f-d54d-472d-b9a5-4e207b0aaf5e')\"\n",
              "              title=\"Convert this dataframe to an interactive table.\"\n",
              "              style=\"display:none;\">\n",
              "        \n",
              "  <svg xmlns=\"http://www.w3.org/2000/svg\" height=\"24px\"viewBox=\"0 0 24 24\"\n",
              "       width=\"24px\">\n",
              "    <path d=\"M0 0h24v24H0V0z\" fill=\"none\"/>\n",
              "    <path d=\"M18.56 5.44l.94 2.06.94-2.06 2.06-.94-2.06-.94-.94-2.06-.94 2.06-2.06.94zm-11 1L8.5 8.5l.94-2.06 2.06-.94-2.06-.94L8.5 2.5l-.94 2.06-2.06.94zm10 10l.94 2.06.94-2.06 2.06-.94-2.06-.94-.94-2.06-.94 2.06-2.06.94z\"/><path d=\"M17.41 7.96l-1.37-1.37c-.4-.4-.92-.59-1.43-.59-.52 0-1.04.2-1.43.59L10.3 9.45l-7.72 7.72c-.78.78-.78 2.05 0 2.83L4 21.41c.39.39.9.59 1.41.59.51 0 1.02-.2 1.41-.59l7.78-7.78 2.81-2.81c.8-.78.8-2.07 0-2.86zM5.41 20L4 18.59l7.72-7.72 1.47 1.35L5.41 20z\"/>\n",
              "  </svg>\n",
              "      </button>\n",
              "      \n",
              "  <style>\n",
              "    .colab-df-container {\n",
              "      display:flex;\n",
              "      flex-wrap:wrap;\n",
              "      gap: 12px;\n",
              "    }\n",
              "\n",
              "    .colab-df-convert {\n",
              "      background-color: #E8F0FE;\n",
              "      border: none;\n",
              "      border-radius: 50%;\n",
              "      cursor: pointer;\n",
              "      display: none;\n",
              "      fill: #1967D2;\n",
              "      height: 32px;\n",
              "      padding: 0 0 0 0;\n",
              "      width: 32px;\n",
              "    }\n",
              "\n",
              "    .colab-df-convert:hover {\n",
              "      background-color: #E2EBFA;\n",
              "      box-shadow: 0px 1px 2px rgba(60, 64, 67, 0.3), 0px 1px 3px 1px rgba(60, 64, 67, 0.15);\n",
              "      fill: #174EA6;\n",
              "    }\n",
              "\n",
              "    [theme=dark] .colab-df-convert {\n",
              "      background-color: #3B4455;\n",
              "      fill: #D2E3FC;\n",
              "    }\n",
              "\n",
              "    [theme=dark] .colab-df-convert:hover {\n",
              "      background-color: #434B5C;\n",
              "      box-shadow: 0px 1px 3px 1px rgba(0, 0, 0, 0.15);\n",
              "      filter: drop-shadow(0px 1px 2px rgba(0, 0, 0, 0.3));\n",
              "      fill: #FFFFFF;\n",
              "    }\n",
              "  </style>\n",
              "\n",
              "      <script>\n",
              "        const buttonEl =\n",
              "          document.querySelector('#df-aac0053f-d54d-472d-b9a5-4e207b0aaf5e button.colab-df-convert');\n",
              "        buttonEl.style.display =\n",
              "          google.colab.kernel.accessAllowed ? 'block' : 'none';\n",
              "\n",
              "        async function convertToInteractive(key) {\n",
              "          const element = document.querySelector('#df-aac0053f-d54d-472d-b9a5-4e207b0aaf5e');\n",
              "          const dataTable =\n",
              "            await google.colab.kernel.invokeFunction('convertToInteractive',\n",
              "                                                     [key], {});\n",
              "          if (!dataTable) return;\n",
              "\n",
              "          const docLinkHtml = 'Like what you see? Visit the ' +\n",
              "            '<a target=\"_blank\" href=https://colab.research.google.com/notebooks/data_table.ipynb>data table notebook</a>'\n",
              "            + ' to learn more about interactive tables.';\n",
              "          element.innerHTML = '';\n",
              "          dataTable['output_type'] = 'display_data';\n",
              "          await google.colab.output.renderOutput(dataTable, element);\n",
              "          const docLink = document.createElement('div');\n",
              "          docLink.innerHTML = docLinkHtml;\n",
              "          element.appendChild(docLink);\n",
              "        }\n",
              "      </script>\n",
              "    </div>\n",
              "  </div>\n",
              "  "
            ]
          },
          "metadata": {},
          "execution_count": 23
        }
      ]
    },
    {
      "cell_type": "markdown",
      "source": [
        "##### Summary statistics"
      ],
      "metadata": {
        "id": "JwYzyzTRZm69"
      }
    },
    {
      "cell_type": "code",
      "source": [
        "dum.describe()"
      ],
      "metadata": {
        "colab": {
          "base_uri": "https://localhost:8080/"
        },
        "id": "3ulC-hBHZbiw",
        "outputId": "fd46e02a-6fbf-43b3-8b87-4c9bdc32bde9"
      },
      "execution_count": null,
      "outputs": [
        {
          "output_type": "execute_result",
          "data": {
            "text/plain": [
              "       Unemployment Rate    Labor Level       Covid\n",
              "count         891.000000     891.000000  891.000000\n",
              "mean            5.754321  112322.845118    0.030303\n",
              "std             1.698198   34964.705743    0.171516\n",
              "min             2.500000   59972.000000    0.000000\n",
              "25%             4.500000   75891.000000    0.000000\n",
              "50%             5.600000  114876.000000    0.000000\n",
              "75%             6.800000  146619.500000    0.000000\n",
              "max            14.700000  164633.000000    1.000000"
            ],
            "text/html": [
              "\n",
              "  <div id=\"df-71516bee-64aa-4a64-885e-ea87f2822740\">\n",
              "    <div class=\"colab-df-container\">\n",
              "      <div>\n",
              "<style scoped>\n",
              "    .dataframe tbody tr th:only-of-type {\n",
              "        vertical-align: middle;\n",
              "    }\n",
              "\n",
              "    .dataframe tbody tr th {\n",
              "        vertical-align: top;\n",
              "    }\n",
              "\n",
              "    .dataframe thead th {\n",
              "        text-align: right;\n",
              "    }\n",
              "</style>\n",
              "<table border=\"1\" class=\"dataframe\">\n",
              "  <thead>\n",
              "    <tr style=\"text-align: right;\">\n",
              "      <th></th>\n",
              "      <th>Unemployment Rate</th>\n",
              "      <th>Labor Level</th>\n",
              "      <th>Covid</th>\n",
              "    </tr>\n",
              "  </thead>\n",
              "  <tbody>\n",
              "    <tr>\n",
              "      <th>count</th>\n",
              "      <td>891.000000</td>\n",
              "      <td>891.000000</td>\n",
              "      <td>891.000000</td>\n",
              "    </tr>\n",
              "    <tr>\n",
              "      <th>mean</th>\n",
              "      <td>5.754321</td>\n",
              "      <td>112322.845118</td>\n",
              "      <td>0.030303</td>\n",
              "    </tr>\n",
              "    <tr>\n",
              "      <th>std</th>\n",
              "      <td>1.698198</td>\n",
              "      <td>34964.705743</td>\n",
              "      <td>0.171516</td>\n",
              "    </tr>\n",
              "    <tr>\n",
              "      <th>min</th>\n",
              "      <td>2.500000</td>\n",
              "      <td>59972.000000</td>\n",
              "      <td>0.000000</td>\n",
              "    </tr>\n",
              "    <tr>\n",
              "      <th>25%</th>\n",
              "      <td>4.500000</td>\n",
              "      <td>75891.000000</td>\n",
              "      <td>0.000000</td>\n",
              "    </tr>\n",
              "    <tr>\n",
              "      <th>50%</th>\n",
              "      <td>5.600000</td>\n",
              "      <td>114876.000000</td>\n",
              "      <td>0.000000</td>\n",
              "    </tr>\n",
              "    <tr>\n",
              "      <th>75%</th>\n",
              "      <td>6.800000</td>\n",
              "      <td>146619.500000</td>\n",
              "      <td>0.000000</td>\n",
              "    </tr>\n",
              "    <tr>\n",
              "      <th>max</th>\n",
              "      <td>14.700000</td>\n",
              "      <td>164633.000000</td>\n",
              "      <td>1.000000</td>\n",
              "    </tr>\n",
              "  </tbody>\n",
              "</table>\n",
              "</div>\n",
              "      <button class=\"colab-df-convert\" onclick=\"convertToInteractive('df-71516bee-64aa-4a64-885e-ea87f2822740')\"\n",
              "              title=\"Convert this dataframe to an interactive table.\"\n",
              "              style=\"display:none;\">\n",
              "        \n",
              "  <svg xmlns=\"http://www.w3.org/2000/svg\" height=\"24px\"viewBox=\"0 0 24 24\"\n",
              "       width=\"24px\">\n",
              "    <path d=\"M0 0h24v24H0V0z\" fill=\"none\"/>\n",
              "    <path d=\"M18.56 5.44l.94 2.06.94-2.06 2.06-.94-2.06-.94-.94-2.06-.94 2.06-2.06.94zm-11 1L8.5 8.5l.94-2.06 2.06-.94-2.06-.94L8.5 2.5l-.94 2.06-2.06.94zm10 10l.94 2.06.94-2.06 2.06-.94-2.06-.94-.94-2.06-.94 2.06-2.06.94z\"/><path d=\"M17.41 7.96l-1.37-1.37c-.4-.4-.92-.59-1.43-.59-.52 0-1.04.2-1.43.59L10.3 9.45l-7.72 7.72c-.78.78-.78 2.05 0 2.83L4 21.41c.39.39.9.59 1.41.59.51 0 1.02-.2 1.41-.59l7.78-7.78 2.81-2.81c.8-.78.8-2.07 0-2.86zM5.41 20L4 18.59l7.72-7.72 1.47 1.35L5.41 20z\"/>\n",
              "  </svg>\n",
              "      </button>\n",
              "      \n",
              "  <style>\n",
              "    .colab-df-container {\n",
              "      display:flex;\n",
              "      flex-wrap:wrap;\n",
              "      gap: 12px;\n",
              "    }\n",
              "\n",
              "    .colab-df-convert {\n",
              "      background-color: #E8F0FE;\n",
              "      border: none;\n",
              "      border-radius: 50%;\n",
              "      cursor: pointer;\n",
              "      display: none;\n",
              "      fill: #1967D2;\n",
              "      height: 32px;\n",
              "      padding: 0 0 0 0;\n",
              "      width: 32px;\n",
              "    }\n",
              "\n",
              "    .colab-df-convert:hover {\n",
              "      background-color: #E2EBFA;\n",
              "      box-shadow: 0px 1px 2px rgba(60, 64, 67, 0.3), 0px 1px 3px 1px rgba(60, 64, 67, 0.15);\n",
              "      fill: #174EA6;\n",
              "    }\n",
              "\n",
              "    [theme=dark] .colab-df-convert {\n",
              "      background-color: #3B4455;\n",
              "      fill: #D2E3FC;\n",
              "    }\n",
              "\n",
              "    [theme=dark] .colab-df-convert:hover {\n",
              "      background-color: #434B5C;\n",
              "      box-shadow: 0px 1px 3px 1px rgba(0, 0, 0, 0.15);\n",
              "      filter: drop-shadow(0px 1px 2px rgba(0, 0, 0, 0.3));\n",
              "      fill: #FFFFFF;\n",
              "    }\n",
              "  </style>\n",
              "\n",
              "      <script>\n",
              "        const buttonEl =\n",
              "          document.querySelector('#df-71516bee-64aa-4a64-885e-ea87f2822740 button.colab-df-convert');\n",
              "        buttonEl.style.display =\n",
              "          google.colab.kernel.accessAllowed ? 'block' : 'none';\n",
              "\n",
              "        async function convertToInteractive(key) {\n",
              "          const element = document.querySelector('#df-71516bee-64aa-4a64-885e-ea87f2822740');\n",
              "          const dataTable =\n",
              "            await google.colab.kernel.invokeFunction('convertToInteractive',\n",
              "                                                     [key], {});\n",
              "          if (!dataTable) return;\n",
              "\n",
              "          const docLinkHtml = 'Like what you see? Visit the ' +\n",
              "            '<a target=\"_blank\" href=https://colab.research.google.com/notebooks/data_table.ipynb>data table notebook</a>'\n",
              "            + ' to learn more about interactive tables.';\n",
              "          element.innerHTML = '';\n",
              "          dataTable['output_type'] = 'display_data';\n",
              "          await google.colab.output.renderOutput(dataTable, element);\n",
              "          const docLink = document.createElement('div');\n",
              "          docLink.innerHTML = docLinkHtml;\n",
              "          element.appendChild(docLink);\n",
              "        }\n",
              "      </script>\n",
              "    </div>\n",
              "  </div>\n",
              "  "
            ]
          },
          "metadata": {},
          "execution_count": 24
        }
      ]
    },
    {
      "cell_type": "markdown",
      "source": [
        "note: As the Covid data here is intended to be set as a dummy variable, so the summary statistics of Covid are meaningless."
      ],
      "metadata": {
        "id": "FMq-AqZqZwko"
      }
    },
    {
      "cell_type": "markdown",
      "source": [
        "### **2.4 Meraging Data**\n",
        "\n",
        "After adjusting the data, as the labor force level and labor participate rate are not independent from each other, we decide to use labor force level because it has a better normal distribution.\n",
        "\n",
        "Before we used the OLS model, we merged the required data together to facilitate better operation of the code."
      ],
      "metadata": {
        "id": "GT9CZXpCAZUr"
      }
    },
    {
      "cell_type": "code",
      "source": [
        "data = lfl.merge(ur,on='DATE')\n",
        "print(data)\n"
      ],
      "metadata": {
        "colab": {
          "base_uri": "https://localhost:8080/"
        },
        "id": "YnCVkNSVAnWv",
        "outputId": "456f176c-28ba-4aa0-9793-cf6b0be0f09a"
      },
      "execution_count": null,
      "outputs": [
        {
          "output_type": "stream",
          "name": "stdout",
          "text": [
            "          DATE  Labor Level  Unemployment Rate     logur\n",
            "0   2020-02-01       164583                3.5  1.252763\n",
            "1   2020-03-01       162764                4.4  1.481605\n",
            "2   2020-04-01       156358               14.7  2.687847\n",
            "3   2020-05-01       158122               13.2  2.580217\n",
            "4   2020-06-01       159834               11.0  2.397895\n",
            "5   2020-07-01       160015               10.2  2.322388\n",
            "6   2020-08-01       160707                8.4  2.128232\n",
            "7   2020-09-01       160153                7.9  2.066863\n",
            "8   2020-10-01       160834                6.9  1.931521\n",
            "9   2020-11-01       160539                6.7  1.902108\n",
            "10  2020-12-01       160671                6.7  1.902108\n",
            "11  2021-01-01       160184                6.4  1.856298\n",
            "12  2021-02-01       160359                6.2  1.824549\n",
            "13  2021-03-01       160631                6.0  1.791759\n",
            "14  2021-04-01       160978                6.0  1.791759\n",
            "15  2021-05-01       160801                5.8  1.757858\n",
            "16  2021-06-01       161114                5.9  1.774952\n",
            "17  2021-07-01       161375                5.4  1.686399\n",
            "18  2021-08-01       161505                5.2  1.648659\n",
            "19  2021-09-01       161471                4.7  1.547563\n",
            "20  2021-10-01       161610                4.6  1.526056\n",
            "21  2021-11-01       162126                4.2  1.435085\n",
            "22  2021-12-01       162294                3.9  1.360977\n",
            "23  2022-01-01       163687                4.0  1.386294\n",
            "24  2022-02-01       163991                3.8  1.335001\n",
            "25  2022-03-01       164409                3.6  1.280934\n"
          ]
        }
      ]
    },
    {
      "cell_type": "code",
      "source": [
        "# we export the covid monthly case data and import again to merage them\n",
        "COVID = pd.read_csv('covid_month.csv')\n",
        "CovidData = COVID[:26]\n",
        "CovidData = CovidData[['cases']]\n",
        "data = pd.concat([data,CovidData], axis=1)\n",
        "print(data)"
      ],
      "metadata": {
        "colab": {
          "base_uri": "https://localhost:8080/"
        },
        "id": "Ap-W8ZHWA_yy",
        "outputId": "1eaeb694-4488-4edc-df72-33074ccf7499"
      },
      "execution_count": null,
      "outputs": [
        {
          "output_type": "stream",
          "name": "stdout",
          "text": [
            "          DATE  Labor Level  Unemployment Rate     logur       cases\n",
            "0   2020-02-01       164583                3.5  1.252763          41\n",
            "1   2020-03-01       162764                4.4  1.481605         736\n",
            "2   2020-04-01       156358               14.7  2.687847     1095533\n",
            "3   2020-05-01       158122               13.2  2.580217    19611708\n",
            "4   2020-06-01       159834               11.0  2.397895    45452114\n",
            "5   2020-07-01       160015               10.2  2.322388    65288844\n",
            "6   2020-08-01       160707                8.4  2.128232   111626136\n",
            "7   2020-09-01       160153                7.9  2.066863   166758528\n",
            "8   2020-10-01       160834                6.9  1.931521   199758786\n",
            "9   2020-11-01       160539                6.7  1.902108   252794114\n",
            "10  2020-12-01       160671                6.7  1.902108   338932078\n",
            "11  2021-01-01       160184                6.4  1.856298   525970605\n",
            "12  2021-02-01       160359                6.2  1.824549   729984096\n",
            "13  2021-03-01       160631                6.0  1.791759   773617710\n",
            "14  2021-04-01       160978                6.0  1.791759   916857453\n",
            "15  2021-05-01       160801                5.8  1.757858   944997168\n",
            "16  2021-06-01       161114                5.9  1.774952  1020501942\n",
            "17  2021-07-01       161375                5.4  1.686399  1003878600\n",
            "18  2021-08-01       161505                5.2  1.648659  1059339596\n",
            "19  2021-09-01       161471                4.7  1.547563  1148978762\n",
            "20  2021-10-01       161610                4.6  1.526056  1247666211\n",
            "21  2021-11-01       162126                4.2  1.435085  1390097002\n",
            "22  2021-12-01       162294                3.9  1.360977  1417533896\n",
            "23  2022-01-01       163687                4.0  1.386294  1575677425\n",
            "24  2022-02-01       163991                3.8  1.335001  2037666117\n",
            "25  2022-03-01       164409                3.6  1.280934  2173725838\n"
          ]
        }
      ]
    },
    {
      "cell_type": "markdown",
      "source": [
        "## **3. Modeling**\n",
        "\n",
        "\n",
        "Because we want to explore the effect of Covid-19 on the unemployment rate in the United States, we choose to use OLS to estimate the effect between them.\n",
        "\n",
        "We designed three sets of models to observe the effect of Covid-19 on the unemployment rate.\n",
        "\n",
        "\n",
        "1. *Model 1* (without Covid-19 data):  \n",
        "Unemployment Rate = $\\beta_{0}$ + $\\beta_{1}$ x Labor Force Level\n",
        "\n",
        "We chose to only use the Labor force level and to not include the Covid-19 data first. We choose to use the Labor force level because this index is directly related to the unemployment rate, so we believe that the labor force level will allow our model to better fit our data. We originally planned to add labor participation rate as well, but we felt that labor participation rate would interact with labor force level and eventually lead to confounding, so we decided to remove one of them. Because the labor force level has a better normal distribution, we chose to keep it.\n",
        "\n",
        "\n",
        "2. *Model 2*(with Covid-19 data):  \n",
        "Unemployment Rate = $\\beta_{0}$ + $\\beta_{1}$ x Labor Force Level + $\\beta_{2}$ x Covid Cases\n",
        "\n",
        "We chose to build model 2 by adding Covid-19 data on top of model 1. This model could show how the Covid-19 cases effect the unemployment rate.\n",
        "\n",
        "\n",
        "\n",
        "3. *Model 3*(with Covid-19 data as Dummy Variable):\n",
        "Unemployment Rate = $\\beta_{0}$ + $\\beta_{1}$ x Labor Force Level + $\\beta_{2}$ x Covid (Dummy)\n",
        "\n",
        "Since the time of Covid-19 is too small compared to the time when unemployment is recorded, the sample size of the data used in our first two models is also small. Therefore, in order to compare the unemployment rate without Covid with the unemployment rate with Covid to show the effect of Covid on unemployment, we set Covid to Dummy Variable and increase the time range of the data to 1948-2022.\n",
        "\n",
        "\n",
        "\n"
      ],
      "metadata": {
        "id": "2qwf5JRW5Dns"
      }
    },
    {
      "cell_type": "markdown",
      "source": [
        "### **Model 1**\n",
        "  Unemployment Rate = $\\beta_{0}$ + $\\beta_{1}$ x Labor Force Level"
      ],
      "metadata": {
        "id": "LhIDQqQp4gMo"
      }
    },
    {
      "cell_type": "code",
      "source": [
        "X = lfl_data\n",
        "Y = logur"
      ],
      "metadata": {
        "id": "5ACMBeR4-DIx"
      },
      "execution_count": null,
      "outputs": []
    },
    {
      "cell_type": "code",
      "source": [
        "model = sm.OLS(Y, X).fit()\n",
        "predictions = model.predict(X) \n",
        "print_model = model.summary()\n",
        "print(print_model)"
      ],
      "metadata": {
        "colab": {
          "base_uri": "https://localhost:8080/"
        },
        "id": "RxVaTtBR-SI2",
        "outputId": "0b912833-dc89-4619-c0f0-69929ec11e53"
      },
      "execution_count": null,
      "outputs": [
        {
          "output_type": "stream",
          "name": "stdout",
          "text": [
            "                                 OLS Regression Results                                \n",
            "=======================================================================================\n",
            "Dep. Variable:      Unemployment Rate   R-squared (uncentered):                   0.952\n",
            "Model:                            OLS   Adj. R-squared (uncentered):              0.950\n",
            "Method:                 Least Squares   F-statistic:                              498.7\n",
            "Date:                Fri, 06 May 2022   Prob (F-statistic):                    4.94e-18\n",
            "Time:                        22:28:00   Log-Likelihood:                         -13.127\n",
            "No. Observations:                  26   AIC:                                      28.25\n",
            "Df Residuals:                      25   BIC:                                      29.51\n",
            "Df Model:                           1                                                  \n",
            "Covariance Type:            nonrobust                                                  \n",
            "===============================================================================\n",
            "                  coef    std err          t      P>|t|      [0.025      0.975]\n",
            "-------------------------------------------------------------------------------\n",
            "Labor Level  1.111e-05   4.97e-07     22.332      0.000    1.01e-05    1.21e-05\n",
            "==============================================================================\n",
            "Omnibus:                        2.435   Durbin-Watson:                   0.447\n",
            "Prob(Omnibus):                  0.296   Jarque-Bera (JB):                1.863\n",
            "Skew:                           0.649   Prob(JB):                        0.394\n",
            "Kurtosis:                       2.810   Cond. No.                         1.00\n",
            "==============================================================================\n",
            "\n",
            "Warnings:\n",
            "[1] Standard Errors assume that the covariance matrix of the errors is correctly specified.\n"
          ]
        }
      ]
    },
    {
      "cell_type": "markdown",
      "source": [
        "##### Interpreting"
      ],
      "metadata": {
        "id": "xkxXKKnt4ZI7"
      }
    },
    {
      "cell_type": "markdown",
      "source": [
        "The regression output of labor level is statistically significant because their p-values equal 0.000 which is lower than the usual significance level of 0.05. Therefore, we reject the null hypothesis and there is a relationship between the variables.\n",
        "\n",
        "The R-squared here is 0.952, which means 95.2% variation in unemployment rate is explained by the labor level. Which indicates our model fits the data well.\n",
        "\n",
        " The coefficient here is 1.111e-0.5 (0.00001111), which means when the labor level  increase 1 unit, the unemployment rate will increases about 0.00001111 %.\n"
      ],
      "metadata": {
        "id": "-ZDZdRkS4iGE"
      }
    },
    {
      "cell_type": "markdown",
      "source": [
        "### **Model 2**\n",
        "  Unemployment Rate = $\\beta_{0}$ + $\\beta_{1}$ x Labor Force Level + $\\beta_{2}$ x Covid Cases\n"
      ],
      "metadata": {
        "id": "u8aUq1M6_baP"
      }
    },
    {
      "cell_type": "code",
      "source": [
        "X = data[['cases','Labor Level']]\n",
        "Y = ur_loglist\n",
        "\n",
        "model = sm.OLS(Y, X).fit()\n",
        "predictions = model.predict(X) \n",
        " \n",
        "print_model = model.summary()\n",
        "print(print_model)"
      ],
      "metadata": {
        "id": "-I3XUlso_t8X",
        "colab": {
          "base_uri": "https://localhost:8080/"
        },
        "outputId": "584709c4-cc9a-4d1d-e5de-6faa030d52af"
      },
      "execution_count": null,
      "outputs": [
        {
          "output_type": "stream",
          "name": "stdout",
          "text": [
            "                                 OLS Regression Results                                \n",
            "=======================================================================================\n",
            "Dep. Variable:                      y   R-squared (uncentered):                   0.975\n",
            "Model:                            OLS   Adj. R-squared (uncentered):              0.973\n",
            "Method:                 Least Squares   F-statistic:                              467.9\n",
            "Date:                Fri, 06 May 2022   Prob (F-statistic):                    5.98e-20\n",
            "Time:                        21:37:37   Log-Likelihood:                         -4.7218\n",
            "No. Observations:                  26   AIC:                                      13.44\n",
            "Df Residuals:                      24   BIC:                                      15.96\n",
            "Df Model:                           2                                                  \n",
            "Covariance Type:            nonrobust                                                  \n",
            "===============================================================================\n",
            "                  coef    std err          t      P>|t|      [0.025      0.975]\n",
            "-------------------------------------------------------------------------------\n",
            "cases        -4.36e-10   9.34e-11     -4.671      0.000   -6.29e-10   -2.43e-10\n",
            "Labor Level  1.311e-05   5.65e-07     23.205      0.000    1.19e-05    1.43e-05\n",
            "==============================================================================\n",
            "Omnibus:                       11.632   Durbin-Watson:                   0.867\n",
            "Prob(Omnibus):                  0.003   Jarque-Bera (JB):               13.696\n",
            "Skew:                          -0.932   Prob(JB):                      0.00106\n",
            "Kurtosis:                       6.028   Cond. No.                     9.31e+03\n",
            "==============================================================================\n",
            "\n",
            "Warnings:\n",
            "[1] Standard Errors assume that the covariance matrix of the errors is correctly specified.\n",
            "[2] The condition number is large, 9.31e+03. This might indicate that there are\n",
            "strong multicollinearity or other numerical problems.\n"
          ]
        }
      ]
    },
    {
      "cell_type": "markdown",
      "source": [
        "##### Interpreting"
      ],
      "metadata": {
        "id": "9K9ONwB2Com6"
      }
    },
    {
      "cell_type": "markdown",
      "source": [
        "The regression output of Covid Case is statistically significant because their p-values equal 0.000 which is lower than the usual significance level of 0.05. Therefore, there is a relationship between the variables.\n",
        "\n",
        "The R-squared here is 0.975, which means 97.5% variation in unemployment rate is explained by the Covid Case. This is bigger than the R-squared of Model 1. This indicates that with the addition of the Covid-19 data, our model fits the U.S. unemployment rate more closely.\n",
        "\n",
        "The coefficient of Labor level is 1.311e-05(0.00001311), which means the unemployment rate will increase about 0.00001311%, when the Labor level increases by one.\n",
        "\n",
        "The coefficient of Covid-19 cases is -4.36e-10(-0.000000000436), which means the unemployment rate will decrease about 0.000000000436%, when the Covid-19 case increases by one.\n",
        "\n",
        "But, based on the reality, the coefficient of Covid-19 cases does not make sense at all;Increasing Covid-19 cases does not make our unemployment rate lower. Moreover, the condition number is 9.31e+03 which is very lagre and may indicate there are strong multicollinearity or other numerical problems in our model. Therefore, even though we normalized our data, there is something wrong.\n"
      ],
      "metadata": {
        "id": "bh1MQXfP4aKE"
      }
    },
    {
      "cell_type": "markdown",
      "source": [
        "### **Model 3**\n",
        "  Unemployment Rate = $\\beta_{0}$ + $\\beta_{1}$ x Labor Force Level + $\\beta_{2}$ x Covid (Dummy)"
      ],
      "metadata": {
        "id": "vAPLAmYdDGlt"
      }
    },
    {
      "cell_type": "code",
      "source": [
        "X = dum[['Labor Level','Covid']]\n",
        "Y = dum['Unemployment Rate']\n",
        "import statsmodels.api as sm\n",
        "model = sm.OLS(Y, X).fit()\n",
        "predictions = model.predict(X) \n",
        " \n",
        "print_model = model.summary()\n",
        "print(print_model)"
      ],
      "metadata": {
        "colab": {
          "base_uri": "https://localhost:8080/"
        },
        "id": "brS6tooKDRWp",
        "outputId": "d8390de9-fbef-444d-ecaa-a650e834b2bc"
      },
      "execution_count": null,
      "outputs": [
        {
          "output_type": "stream",
          "name": "stdout",
          "text": [
            "                                 OLS Regression Results                                \n",
            "=======================================================================================\n",
            "Dep. Variable:      Unemployment Rate   R-squared (uncentered):                   0.878\n",
            "Model:                            OLS   Adj. R-squared (uncentered):              0.878\n",
            "Method:                 Least Squares   F-statistic:                              3210.\n",
            "Date:                Fri, 06 May 2022   Prob (F-statistic):                        0.00\n",
            "Time:                        21:37:37   Log-Likelihood:                         -1922.0\n",
            "No. Observations:                 891   AIC:                                      3848.\n",
            "Df Residuals:                     889   BIC:                                      3858.\n",
            "Df Model:                           2                                                  \n",
            "Covariance Type:            nonrobust                                                  \n",
            "===============================================================================\n",
            "                  coef    std err          t      P>|t|      [0.025      0.975]\n",
            "-------------------------------------------------------------------------------\n",
            "Labor Level  4.825e-05   6.14e-07     78.540      0.000     4.7e-05    4.95e-05\n",
            "Covid          -1.3830      0.415     -3.332      0.001      -2.198      -0.568\n",
            "==============================================================================\n",
            "Omnibus:                        3.427   Durbin-Watson:                   0.043\n",
            "Prob(Omnibus):                  0.180   Jarque-Bera (JB):                3.147\n",
            "Skew:                          -0.085   Prob(JB):                        0.207\n",
            "Kurtosis:                       2.763   Cond. No.                     6.96e+05\n",
            "==============================================================================\n",
            "\n",
            "Warnings:\n",
            "[1] Standard Errors assume that the covariance matrix of the errors is correctly specified.\n",
            "[2] The condition number is large, 6.96e+05. This might indicate that there are\n",
            "strong multicollinearity or other numerical problems.\n"
          ]
        }
      ]
    },
    {
      "cell_type": "markdown",
      "source": [
        "##### Interpreting"
      ],
      "metadata": {
        "id": "5seFblevCr8y"
      }
    },
    {
      "cell_type": "markdown",
      "source": [
        "The regression output of Covid Case is statistically significant because their p-values equal 0.001 which is lower than the usual significance level of 0.05.\n",
        "\n",
        "The R-squared here is 0.878, which means 87.8% variation in unemployment rate is explained by the Covid Case.This is smaller than the R-squared of the two previous models. But because we stretched the time range of the data to the maximum, which may have neglected some other variable factors; so we think that the R-squared of Model 3 is still acceptable.\n",
        "\n",
        "The coefficient of Labor level is 4.825e-05(0.00004825),which means when Labor level increase 1 unit, the unemployment will increase about 0.00004825%\n",
        "\n",
        "The coefficient of Covid is -1.3830, which means when compare to the umemployment rate without Covid, the unemployment rate with Covid will decrese about 1.383%.\n",
        "\n",
        "However, based on the reality, Covid-19 does not make our unemployment rate lower. Moreover the condition number is 6.96e+05 which is still very lagre and may indicate there are strong multicollinearity or other numerical problems in our model. So there is something wrong."
      ],
      "metadata": {
        "id": "AMHTwluDCtQ7"
      }
    },
    {
      "cell_type": "markdown",
      "source": [
        "## **4.Findings**\n"
      ],
      "metadata": {
        "id": "apICFwb2x4W5"
      }
    },
    {
      "cell_type": "markdown",
      "source": [
        "1. By testing three sets of models, we find that the model with Covid-19 cases data (Model 2) will fit the U.S. unemployment rate data better than the model without Covid-19 casese data (Model 1). This is also reflected in our model 3. Although the R-squared of model 3 is less than the previous two models, which might be caused by having much larger time span and the possible omission of many potential variable factors, the R-squared of model 3 is still 0.878; so it is obvious that Covid-19 has an effect on the unemployment rate.\n",
        "\n",
        "2. We also find that in the models with Covid-19 data (models 2 and 3), they both have large condition numbers, which indicates that there are strong multicollinearity or other numerical problems. In other words, our variables are not independent from each other and the Covid-19 data may also have an effect on the labor force level. Moreover, the coefficients of Covid-19 from these two models are also contrary to reality. Our model results show that Covid-19 is inversely proportional to the unemployment rate; in other words, the presence of Covid-19 reduces the unemployment rate, but this is clearly contrary to reality.\n"
      ],
      "metadata": {
        "id": "vOKL9vetMf22"
      }
    },
    {
      "cell_type": "markdown",
      "source": [
        "## **5.Conclusion**"
      ],
      "metadata": {
        "id": "45GNpQ8cx79G"
      }
    },
    {
      "cell_type": "markdown",
      "source": [
        "In our research, we believe that the increasing Covid-19 cases would make the unemployment rate higher. However, in our model, we find out that the Covid-19 has negative effects on the unemployment rate. This unexpected bad result might be caused by our limitation of our data and model. To eliminate the problem that may be caused by small sample size,we normalized our data which improves the accuracy and integrity of our data. The result of multicollinearity in our OLS regression model means that our labor force level data and the Covid-19 cases data would affect each other, and they are not independent variables. We think that the Covid-19 cases play the role of confounder in our models because the covid deaths would decrease the labor force level. Then, we try to obtain other data like age, sex, and education level which are independent variables from each other. Nevertheless, due to hard to count the large base of age, sex, and education level, we could only find the data collected in years that are hard to fit in our covid-19 cases data and unemployment rate data. As the result of failing to eliminate the side effect of confounder in our model, the estimation result for the relation between unemployment rate and Covid-19 cases is contrary to the reality.\n",
        "\n",
        "\n",
        "Depending on our findings in other economics literature, we conclude that the Covid-19 cases positively affect the unemployment rate from many aspects like number of labor force, labor participation rate, and number of job offers. During the Covid-19 pandemic, people were restricted from traveling , which reduced the mobility of the population, resulting in local job requirements. Many people lose job opportunities due to the traveling restrictions. As the Covid-19 emerged rapidly and uncontrollably, many people died in this disaster causing the labor force level to decrease. Also, the Covid-19 has caused many companies to be unable to operate normally and may eventually shut down. The difficulty of the companies would decrease the job offers. Thus, people would be more likely to lose theirs than before. Moreover, many state governments provide more social benefits during the pandemic like Covid-19 Unemployment Insurance which would make people’s unemployed period longer. \n",
        "\n",
        "Future Improvement:\n",
        "\n",
        "\n",
        "\n",
        "1. It is necessary to collect more data in terms of days. For example, data on age, sex ratio, education level.\n",
        "\n",
        "\n",
        "2. Consider and include more data on the details of Covid in future models. For example, Covid mortality rates, recovery rates, and vaccination rates. Also consider the impact of government policies on unemployment during the epidemic.\n",
        "\n",
        "\n",
        "3. Continue to explore and use data that is not affected by Covid but can affect the U.S. unemployment rate.\n"
      ],
      "metadata": {
        "id": "Xa39MJoZKnJO"
      }
    },
    {
      "cell_type": "markdown",
      "source": [
        "## **6.Reference**"
      ],
      "metadata": {
        "id": "cIK0-gq7UcZ9"
      }
    },
    {
      "cell_type": "markdown",
      "source": [
        "References\n",
        "\n",
        "1.Antipova, A. (2021). Analysis of the COVID-19 impacts on employment and unemployment across the multi-dimensional social disadvantaged areas. Social Sciences & Humanities Open, 4(1). https://doi.org/10.1016/j.ssaho.2021.100224\n",
        "\n",
        "\n",
        "2.Civilian Labor Force Level (CLF16OV) | FRED | St. Louis Fed. (n.d.). FRED. Retrieved May 3, 2022, from https://fred.stlouisfed.org/series/CLF16OV\n",
        "\n",
        "\n",
        "3.Labor Force Participation Rate (CIVPART) | FRED | St. Louis Fed. (2022, April 1). FRED. Retrieved May 3, 2022, from https://fred.stlouisfed.org/series/CIVPART\n",
        "\n",
        "\n",
        "4.Şahin, A., Tasci, M., & Yan, J. (2020, July 5). The Unemployment Cost of COVID-19: How High and How Long? Federal Reserve Bank of Cleveland. Retrieved May 3, 2022, from https://www.clevelandfed.org/en/newsroom-and-events/publications/economic-commentary/2020-economic-commentaries/ec-202009-unemployment-costs-of-covid.aspx?source=content_type%3Areact%7Cfirst_level_url%3Aarticle%7Csection%3Amain_content%7Cbutton%3Abody_link\n",
        "\n",
        "\n",
        "5.Unemployment Rate (UNRATE) | FRED | St. Louis Fed. (n.d.). FRED. Retrieved May 3, 2022, from https://fred.stlouisfed.org/series/UNRATE\n",
        "\n",
        "\n",
        "6.US counties COVID 19 dataset. (n.d.). Kaggle. Retrieved May 3, 2022, from https://www.kaggle.com/datasets/fireballbyedimyrnmom/us-counties-covid-19-dataset"
      ],
      "metadata": {
        "id": "RwwaecZJUzTe"
      }
    }
  ]
}